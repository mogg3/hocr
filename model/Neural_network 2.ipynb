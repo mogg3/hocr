{
 "cells": [
  {
   "cell_type": "code",
   "execution_count": 13,
   "metadata": {
    "tags": []
   },
   "outputs": [],
   "source": [
    "import tensorflow as tf\n",
    "import numpy as np\n",
    "import matplotlib.pyplot as plt\n",
    "import cv2\n",
    "import os\n",
    "import re\n",
    "from tensorflow import keras\n",
    "import time\n",
    "from tensorflow.keras.layers import Dense, Dropout, Activation, Flatten, SpatialDropout2D\n",
    "from tensorflow.keras.layers import Convolution2D, MaxPooling2D, Conv2D\n",
    "from tensorflow.keras.utils import to_categorical"
   ]
  },
  {
   "cell_type": "code",
   "execution_count": 2,
   "metadata": {},
   "outputs": [],
   "source": [
    "def sorted_alphanumeric(data):\n",
    "    convert = lambda text: int(text) if text.isdigit() else text.lower()\n",
    "    alphanum_key = lambda key: [ convert(c) for c in re.split('([0-9]+)', key) ]\n",
    "    return sorted(data, key=alphanum_key)"
   ]
  },
  {
   "cell_type": "code",
   "execution_count": 56,
   "metadata": {},
   "outputs": [],
   "source": [
    "char_dict = {\"char\": [], \"matrix\": []}\n",
    "char_set = dict()\n",
    "src = r\"../dataset/handwritten_letters\"\n",
    "ignore = [\"#\", \"$\", \"&\", \"@\"]\n",
    "for i in range(1000):\n",
    "    for folder in os.listdir(src):\n",
    "        if folder in ignore:\n",
    "            continue\n",
    "        char_dict[\"char\"].append(folder)\n",
    "        if folder not in char_set:\n",
    "            char_set[folder] = sorted_alphanumeric(os.listdir(src + '/' + folder))\n",
    "        image = tf.keras.preprocessing.image.load_img(f'{src}/{folder}/{char_set[folder][i]}', grayscale = True, color_mode = \"grayscale\")\n",
    "        input_arr = keras.preprocessing.image.img_to_array(image)\n",
    "        input_arr = np.array(input_arr)  # Convert single image to a batch.\n",
    "        char_dict[\"matrix\"].append(input_arr)"
   ]
  },
  {
   "cell_type": "code",
   "execution_count": 57,
   "metadata": {},
   "outputs": [],
   "source": [
    "X = np.array(char_dict[\"matrix\"])\n",
    "y = np.array(char_dict['char'])"
   ]
  },
  {
   "cell_type": "code",
   "execution_count": 58,
   "metadata": {},
   "outputs": [],
   "source": [
    "X = X.reshape(X.shape[0], 32, 32, 1)"
   ]
  },
  {
   "cell_type": "code",
   "execution_count": 59,
   "metadata": {},
   "outputs": [
    {
     "name": "stderr",
     "output_type": "stream",
     "text": [
      "C:\\Users\\sarak\\anaconda3\\lib\\site-packages\\category_encoders\\utils.py:21: FutureWarning: is_categorical is deprecated and will be removed in a future version.  Use is_categorical_dtype instead\n",
      "  elif pd.api.types.is_categorical(cols):\n"
     ]
    }
   ],
   "source": [
    "import category_encoders as ce\n",
    "le =  ce.OneHotEncoder(return_df=False, handle_unknown=\"ignore\")\n",
    "y = le.fit_transform(y)"
   ]
  },
  {
   "cell_type": "code",
   "execution_count": 60,
   "metadata": {},
   "outputs": [],
   "source": [
    "split = int(round(0.9 * len(X)))\n",
    "\n",
    "train_X = X[:split]/255\n",
    "train_y = y[:split]\n",
    "test_X = X[split:]/255\n",
    "test_y = y[split:]"
   ]
  },
  {
   "cell_type": "code",
   "execution_count": 61,
   "metadata": {},
   "outputs": [],
   "source": [
    "train_X = train_X.astype('float32')\n",
    "test_X = test_X.astype('float32')"
   ]
  },
  {
   "cell_type": "code",
   "execution_count": 13,
   "metadata": {},
   "outputs": [],
   "source": [
    "model = tf.keras.Sequential()\n",
    " \n",
    "model.add(Convolution2D(32, 3, 3, activation='relu', input_shape=(32, 32, 1)))\n",
    "model.add(Convolution2D(32, 3, 3, activation='relu'))\n",
    "model.add(MaxPooling2D(pool_size=(2,2)))\n",
    "model.add(Dropout(0.25))\n",
    " \n",
    "model.add(Flatten())\n",
    "model.add(Dense(128, activation='relu'))\n",
    "model.add(Dropout(0.5))\n",
    "model.add(Dense(35, activation='softmax'))\n",
    "\n",
    "model.compile(loss='categorical_crossentropy',\n",
    "              optimizer='adam',\n",
    "              metrics=['accuracy'])"
   ]
  },
  {
   "cell_type": "code",
   "execution_count": 77,
   "metadata": {},
   "outputs": [
    {
     "data": {
      "text/plain": [
       "(15750, 35)"
      ]
     },
     "execution_count": 77,
     "metadata": {},
     "output_type": "execute_result"
    }
   ],
   "source": [
    "train_y.shape"
   ]
  },
  {
   "cell_type": "code",
   "execution_count": 14,
   "metadata": {
    "collapsed": true,
    "jupyter": {
     "outputs_hidden": true
    }
   },
   "outputs": [
    {
     "name": "stdout",
     "output_type": "stream",
     "text": [
      "Epoch 1/10\n",
      "493/493 [==============================] - 6s 8ms/step - loss: 3.4169 - accuracy: 0.0641\n",
      "Epoch 2/10\n",
      "493/493 [==============================] - 4s 9ms/step - loss: 2.6338 - accuracy: 0.2452\n",
      "Epoch 3/10\n",
      "493/493 [==============================] - 4s 9ms/step - loss: 2.4106 - accuracy: 0.3106\n",
      "Epoch 4/10\n",
      "493/493 [==============================] - 4s 9ms/step - loss: 2.2721 - accuracy: 0.3473: 1s - loss: 2.278\n",
      "Epoch 5/10\n",
      "493/493 [==============================] - 4s 9ms/step - loss: 2.2093 - accuracy: 0.3588\n",
      "Epoch 6/10\n",
      "493/493 [==============================] - 5s 10ms/step - loss: 2.1341 - accuracy: 0.3766\n",
      "Epoch 7/10\n",
      "493/493 [==============================] - 4s 9ms/step - loss: 2.0694 - accuracy: 0.3901\n",
      "Epoch 8/10\n",
      "493/493 [==============================] - 4s 8ms/step - loss: 2.0400 - accuracy: 0.3892\n",
      "Epoch 9/10\n",
      "493/493 [==============================] - 4s 8ms/step - loss: 1.9893 - accuracy: 0.4107\n",
      "Epoch 10/10\n",
      "493/493 [==============================] - 4s 9ms/step - loss: 1.9891 - accuracy: 0.4138\n"
     ]
    },
    {
     "data": {
      "text/plain": [
       "<tensorflow.python.keras.callbacks.History at 0x1abae62ae50>"
      ]
     },
     "execution_count": 14,
     "metadata": {},
     "output_type": "execute_result"
    }
   ],
   "source": [
    "model.fit(train_X, train_y, \n",
    "          batch_size=32, epochs=10, verbose=1)"
   ]
  },
  {
   "cell_type": "code",
   "execution_count": 93,
   "metadata": {},
   "outputs": [
    {
     "name": "stdout",
     "output_type": "stream",
     "text": [
      "Accuracy on training data: 0.5407618880271912% \n",
      " Error on test data: 0.45923811197280884\n",
      "\n",
      "Accuracy on test data: 0.4617142975330353% \n",
      " Error on test data: 0.5382857024669647\n"
     ]
    }
   ],
   "source": [
    "pred_train= model.predict(train_X)\n",
    "scores = model.evaluate(train_X, train_y, verbose=0)\n",
    "print(f'Accuracy on training data: {scores[1]}% \\n Error on test data: {1 - scores[1]}')   \n",
    "print()\n",
    "pred_test= model.predict(test_X)\n",
    "scores2 = model.evaluate(test_X, test_y, verbose=0)\n",
    "print(f'Accuracy on test data: {scores2[1]}% \\n Error on test data: {1 - scores2[1]}')    "
   ]
  },
  {
   "cell_type": "markdown",
   "metadata": {},
   "source": [
    "### Test 2 - 25 epochs"
   ]
  },
  {
   "cell_type": "code",
   "execution_count": 15,
   "metadata": {
    "collapsed": true,
    "jupyter": {
     "outputs_hidden": true
    }
   },
   "outputs": [
    {
     "name": "stdout",
     "output_type": "stream",
     "text": [
      "Epoch 1/25\n",
      "493/493 [==============================] - 5s 10ms/step - loss: 1.9511 - accuracy: 0.4204\n",
      "Epoch 2/25\n",
      "493/493 [==============================] - 5s 11ms/step - loss: 1.9156 - accuracy: 0.4297\n",
      "Epoch 3/25\n",
      "493/493 [==============================] - 5s 10ms/step - loss: 1.9190 - accuracy: 0.4301\n",
      "Epoch 4/25\n",
      "493/493 [==============================] - 5s 9ms/step - loss: 1.9171 - accuracy: 0.4286\n",
      "Epoch 5/25\n",
      "493/493 [==============================] - 5s 9ms/step - loss: 1.8909 - accuracy: 0.4312\n",
      "Epoch 6/25\n",
      "493/493 [==============================] - 5s 10ms/step - loss: 1.8864 - accuracy: 0.4380\n",
      "Epoch 7/25\n",
      "493/493 [==============================] - 4s 9ms/step - loss: 1.8646 - accuracy: 0.4422\n",
      "Epoch 8/25\n",
      "493/493 [==============================] - 5s 10ms/step - loss: 1.8519 - accuracy: 0.4448\n",
      "Epoch 9/25\n",
      "493/493 [==============================] - 4s 9ms/step - loss: 1.8504 - accuracy: 0.4404\n",
      "Epoch 10/25\n",
      "493/493 [==============================] - 4s 8ms/step - loss: 1.8468 - accuracy: 0.4455\n",
      "Epoch 11/25\n",
      "493/493 [==============================] - 4s 8ms/step - loss: 1.8193 - accuracy: 0.4526\n",
      "Epoch 12/25\n",
      "493/493 [==============================] - 5s 10ms/step - loss: 1.8226 - accuracy: 0.4491\n",
      "Epoch 13/25\n",
      "493/493 [==============================] - 5s 10ms/step - loss: 1.8186 - accuracy: 0.4502\n",
      "Epoch 14/25\n",
      "493/493 [==============================] - 5s 9ms/step - loss: 1.8208 - accuracy: 0.4477\n",
      "Epoch 15/25\n",
      "493/493 [==============================] - 5s 10ms/step - loss: 1.8001 - accuracy: 0.4554\n",
      "Epoch 16/25\n",
      "493/493 [==============================] - 5s 11ms/step - loss: 1.8085 - accuracy: 0.4564\n",
      "Epoch 17/25\n",
      "493/493 [==============================] - 7s 15ms/step - loss: 1.8020 - accuracy: 0.4538 0s - loss: 1.7\n",
      "Epoch 18/25\n",
      "493/493 [==============================] - 5s 10ms/step - loss: 1.7947 - accuracy: 0.4539\n",
      "Epoch 19/25\n",
      "493/493 [==============================] - ETA: 0s - loss: 1.7927 - accuracy: 0.45 - 5s 11ms/step - loss: 1.7936 - accuracy: 0.4583\n",
      "Epoch 20/25\n",
      "493/493 [==============================] - 4s 9ms/step - loss: 1.7964 - accuracy: 0.4592\n",
      "Epoch 21/25\n",
      "493/493 [==============================] - 4s 9ms/step - loss: 1.7753 - accuracy: 0.4623\n",
      "Epoch 22/25\n",
      "493/493 [==============================] - 5s 9ms/step - loss: 1.7738 - accuracy: 0.4617\n",
      "Epoch 23/25\n",
      "493/493 [==============================] - 5s 11ms/step - loss: 1.7695 - accuracy: 0.4654\n",
      "Epoch 24/25\n",
      "493/493 [==============================] - 4s 9ms/step - loss: 1.7586 - accuracy: 0.4672\n",
      "Epoch 25/25\n",
      "493/493 [==============================] - 5s 9ms/step - loss: 1.7590 - accuracy: 0.4656\n"
     ]
    },
    {
     "data": {
      "text/plain": [
       "<tensorflow.python.keras.callbacks.History at 0x1abb083b100>"
      ]
     },
     "execution_count": 15,
     "metadata": {},
     "output_type": "execute_result"
    }
   ],
   "source": [
    "model.fit(train_X, train_y, \n",
    "          batch_size=32, epochs=25, verbose=1)"
   ]
  },
  {
   "cell_type": "code",
   "execution_count": 16,
   "metadata": {},
   "outputs": [
    {
     "name": "stdout",
     "output_type": "stream",
     "text": [
      "Accuracy on training data: 0.5999364852905273% \n",
      " Error on test data: 0.40006351470947266\n",
      "\n",
      "Accuracy on test data: 0.4811428487300873% \n",
      " Error on test data: 0.5188571512699127\n"
     ]
    }
   ],
   "source": [
    "pred_train= model.predict(train_X)\n",
    "scores = model.evaluate(train_X, train_y, verbose=0)\n",
    "print(f'Accuracy on training data: {scores[1]}% \\n Error on test data: {1 - scores[1]}')   \n",
    "print()\n",
    "pred_test= model.predict(test_X)\n",
    "scores2 = model.evaluate(test_X, test_y, verbose=0)\n",
    "print(f'Accuracy on test data: {scores2[1]}% \\n Error on test data: {1 - scores2[1]}')    "
   ]
  },
  {
   "cell_type": "markdown",
   "metadata": {},
   "source": [
    "### Test 3 - trying other layers 84,4%"
   ]
  },
  {
   "cell_type": "code",
   "execution_count": 20,
   "metadata": {},
   "outputs": [],
   "source": [
    "model = tf.keras.Sequential()\n",
    " \n",
    "model.add(Conv2D(32, (3, 3), activation='relu', input_shape=(32, 32, 1)))\n",
    "model.add(MaxPooling2D(pool_size=(2,2)))\n",
    "model.add(Conv2D(32, (3, 3), activation='relu'))\n",
    "model.add(MaxPooling2D(pool_size=(2,2)))\n",
    " \n",
    "model.add(Flatten())\n",
    "model.add(Dense(128, activation='relu'))\n",
    "model.add(Dense(128, activation='relu'))\n",
    "model.add(Dense(35, activation='softmax'))\n",
    "\n",
    "model.compile(loss='categorical_crossentropy',\n",
    "              optimizer='adam',\n",
    "              metrics=['accuracy'])"
   ]
  },
  {
   "cell_type": "code",
   "execution_count": 21,
   "metadata": {
    "collapsed": true,
    "jupyter": {
     "outputs_hidden": true
    }
   },
   "outputs": [
    {
     "name": "stdout",
     "output_type": "stream",
     "text": [
      "Epoch 1/25\n",
      "493/493 [==============================] - 39s 76ms/step - loss: 1.8560 - accuracy: 0.4953\n",
      "Epoch 2/25\n",
      "493/493 [==============================] - 34s 69ms/step - loss: 0.4103 - accuracy: 0.8704\n",
      "Epoch 3/25\n",
      "493/493 [==============================] - 32s 64ms/step - loss: 0.2926 - accuracy: 0.90321s - loss: 0.2929 - accuracy\n",
      "Epoch 4/25\n",
      "493/493 [==============================] - 31s 63ms/step - loss: 0.2173 - accuracy: 0.9292\n",
      "Epoch 5/25\n",
      "493/493 [==============================] - 33s 66ms/step - loss: 0.1710 - accuracy: 0.9413\n",
      "Epoch 6/25\n",
      "493/493 [==============================] - 34s 69ms/step - loss: 0.1317 - accuracy: 0.9533\n",
      "Epoch 7/25\n",
      "493/493 [==============================] - 34s 68ms/step - loss: 0.1251 - accuracy: 0.9592\n",
      "Epoch 8/25\n",
      "493/493 [==============================] - 34s 70ms/step - loss: 0.0964 - accuracy: 0.9683\n",
      "Epoch 9/25\n",
      "493/493 [==============================] - 33s 68ms/step - loss: 0.0672 - accuracy: 0.9756\n",
      "Epoch 10/25\n",
      "493/493 [==============================] - 34s 70ms/step - loss: 0.0708 - accuracy: 0.97561s - loss: 0.0706 - accuracy: 0. - ETA: 1s\n",
      "Epoch 11/25\n",
      "493/493 [==============================] - 34s 69ms/step - loss: 0.0578 - accuracy: 0.9782\n",
      "Epoch 12/25\n",
      "493/493 [==============================] - 34s 68ms/step - loss: 0.0539 - accuracy: 0.9806\n",
      "Epoch 13/25\n",
      "493/493 [==============================] - 34s 69ms/step - loss: 0.0537 - accuracy: 0.9818\n",
      "Epoch 14/25\n",
      "493/493 [==============================] - 34s 69ms/step - loss: 0.0494 - accuracy: 0.9831\n",
      "Epoch 15/25\n",
      "493/493 [==============================] - 34s 70ms/step - loss: 0.0429 - accuracy: 0.9870\n",
      "Epoch 16/25\n",
      "493/493 [==============================] - 34s 70ms/step - loss: 0.0377 - accuracy: 0.9858\n",
      "Epoch 17/25\n",
      "493/493 [==============================] - 34s 69ms/step - loss: 0.0379 - accuracy: 0.9868\n",
      "Epoch 18/25\n",
      "493/493 [==============================] - 34s 68ms/step - loss: 0.0287 - accuracy: 0.9896\n",
      "Epoch 19/25\n",
      "493/493 [==============================] - 34s 70ms/step - loss: 0.0368 - accuracy: 0.9874\n",
      "Epoch 20/25\n",
      "493/493 [==============================] - 34s 68ms/step - loss: 0.0257 - accuracy: 0.9916\n",
      "Epoch 21/25\n",
      "493/493 [==============================] - 33s 68ms/step - loss: 0.0272 - accuracy: 0.9912\n",
      "Epoch 22/25\n",
      "493/493 [==============================] - 34s 69ms/step - loss: 0.0387 - accuracy: 0.9888\n",
      "Epoch 23/25\n",
      "493/493 [==============================] - 34s 68ms/step - loss: 0.0213 - accuracy: 0.9927\n",
      "Epoch 24/25\n",
      "493/493 [==============================] - 34s 69ms/step - loss: 0.0165 - accuracy: 0.9946\n",
      "Epoch 25/25\n",
      "493/493 [==============================] - 34s 68ms/step - loss: 0.0160 - accuracy: 0.9951\n",
      "Accuracy on training data: 0.992127001285553% \n",
      " Error on test data: 0.007872998714447021\n",
      "\n",
      "Accuracy on test data: 0.843999981880188% \n",
      " Error on test data: 0.156000018119812\n"
     ]
    }
   ],
   "source": [
    "model.fit(train_X, train_y, \n",
    "          batch_size=32, epochs=25, verbose=1)\n",
    "\n",
    "pred_train= model.predict(train_X)\n",
    "scores = model.evaluate(train_X, train_y, verbose=0)\n",
    "print(f'Accuracy on training data: {scores[1]}% \\n Error on test data: {1 - scores[1]}')   \n",
    "print()\n",
    "pred_test= model.predict(test_X)\n",
    "scores2 = model.evaluate(test_X, test_y, verbose=0)\n",
    "print(f'Accuracy on test data: {scores2[1]}% \\n Error on test data: {1 - scores2[1]}')    "
   ]
  },
  {
   "cell_type": "markdown",
   "metadata": {},
   "source": [
    "### Test 4 - removing one dense layer 85,2%"
   ]
  },
  {
   "cell_type": "code",
   "execution_count": 22,
   "metadata": {},
   "outputs": [],
   "source": [
    "model = tf.keras.Sequential()\n",
    " \n",
    "model.add(Conv2D(32, (3, 3), activation='relu', input_shape=(32, 32, 1)))\n",
    "model.add(MaxPooling2D(pool_size=(2,2)))\n",
    "model.add(Conv2D(32, (3, 3), activation='relu'))\n",
    "model.add(MaxPooling2D(pool_size=(2,2)))\n",
    " \n",
    "model.add(Flatten())\n",
    "model.add(Dense(128, activation='relu'))\n",
    "model.add(Dense(35, activation='softmax'))\n",
    "\n",
    "model.compile(loss='categorical_crossentropy',\n",
    "              optimizer='adam',\n",
    "              metrics=['accuracy'])"
   ]
  },
  {
   "cell_type": "code",
   "execution_count": 23,
   "metadata": {
    "collapsed": true,
    "jupyter": {
     "outputs_hidden": true
    }
   },
   "outputs": [
    {
     "name": "stdout",
     "output_type": "stream",
     "text": [
      "Epoch 1/25\n",
      "493/493 [==============================] - 34s 66ms/step - loss: 1.7600 - accuracy: 0.5199\n",
      "Epoch 2/25\n",
      "493/493 [==============================] - 42s 84ms/step - loss: 0.4430 - accuracy: 0.8685\n",
      "Epoch 3/25\n",
      "493/493 [==============================] - 34s 69ms/step - loss: 0.2980 - accuracy: 0.9065\n",
      "Epoch 4/25\n",
      "493/493 [==============================] - 35s 71ms/step - loss: 0.2292 - accuracy: 0.92590s - loss: 0.2292 - accu\n",
      "Epoch 5/25\n",
      "493/493 [==============================] - 37s 74ms/step - loss: 0.1897 - accuracy: 0.9382\n",
      "Epoch 6/25\n",
      "493/493 [==============================] - 38s 76ms/step - loss: 0.1367 - accuracy: 0.9522\n",
      "Epoch 7/25\n",
      "493/493 [==============================] - 35s 71ms/step - loss: 0.1023 - accuracy: 0.96420s - loss: 0.1021 - accuracy\n",
      "Epoch 8/25\n",
      "493/493 [==============================] - 34s 69ms/step - loss: 0.0880 - accuracy: 0.9715\n",
      "Epoch 9/25\n",
      "493/493 [==============================] - 45s 91ms/step - loss: 0.0671 - accuracy: 0.9745\n",
      "Epoch 10/25\n",
      "493/493 [==============================] - 38s 78ms/step - loss: 0.0470 - accuracy: 0.9834\n",
      "Epoch 11/25\n",
      "493/493 [==============================] - 39s 79ms/step - loss: 0.0538 - accuracy: 0.9815\n",
      "Epoch 12/25\n",
      "493/493 [==============================] - 37s 75ms/step - loss: 0.0455 - accuracy: 0.9831\n",
      "Epoch 13/25\n",
      "493/493 [==============================] - 50s 102ms/step - loss: 0.0351 - accuracy: 0.9876\n",
      "Epoch 14/25\n",
      "493/493 [==============================] - 61s 123ms/step - loss: 0.0519 - accuracy: 0.9823\n",
      "Epoch 15/25\n",
      "493/493 [==============================] - 55s 111ms/step - loss: 0.0355 - accuracy: 0.9873\n",
      "Epoch 16/25\n",
      "493/493 [==============================] - 59s 121ms/step - loss: 0.0367 - accuracy: 0.9865\n",
      "Epoch 17/25\n",
      "493/493 [==============================] - 67s 137ms/step - loss: 0.0277 - accuracy: 0.9905s\n",
      "Epoch 18/25\n",
      "493/493 [==============================] - 39s 80ms/step - loss: 0.0330 - accuracy: 0.9880\n",
      "Epoch 19/25\n",
      "493/493 [==============================] - 36s 74ms/step - loss: 0.0300 - accuracy: 0.9897\n",
      "Epoch 20/25\n",
      "493/493 [==============================] - 35s 71ms/step - loss: 0.0382 - accuracy: 0.9873\n",
      "Epoch 21/25\n",
      "493/493 [==============================] - 34s 70ms/step - loss: 0.0186 - accuracy: 0.9941\n",
      "Epoch 22/25\n",
      "493/493 [==============================] - 35s 70ms/step - loss: 0.0241 - accuracy: 0.9915\n",
      "Epoch 23/25\n",
      "493/493 [==============================] - 35s 71ms/step - loss: 0.0357 - accuracy: 0.98851s -\n",
      "Epoch 24/25\n",
      "493/493 [==============================] - 36s 72ms/step - loss: 0.0168 - accuracy: 0.9948\n",
      "Epoch 25/25\n",
      "493/493 [==============================] - 39s 78ms/step - loss: 0.0218 - accuracy: 0.9922\n",
      "Accuracy on training data: 0.9972063302993774% \n",
      " Error on test data: 0.0027936697006225586\n",
      "\n",
      "Accuracy on test data: 0.8519999980926514% \n",
      " Error on test data: 0.14800000190734863\n"
     ]
    }
   ],
   "source": [
    "model.fit(train_X, train_y, \n",
    "          batch_size=32, epochs=25, verbose=1)\n",
    "\n",
    "pred_train= model.predict(train_X)\n",
    "scores = model.evaluate(train_X, train_y, verbose=0)\n",
    "print(f'Accuracy on training data: {scores[1]}% \\n Error on test data: {1 - scores[1]}')   \n",
    "print()\n",
    "pred_test= model.predict(test_X)\n",
    "scores2 = model.evaluate(test_X, test_y, verbose=0)\n",
    "print(f'Accuracy on test data: {scores2[1]}% \\n Error on test data: {1 - scores2[1]}')    "
   ]
  },
  {
   "cell_type": "markdown",
   "metadata": {},
   "source": [
    "### Test 5 - trying dropout layer 86,7%"
   ]
  },
  {
   "cell_type": "code",
   "execution_count": 24,
   "metadata": {},
   "outputs": [],
   "source": [
    "model = tf.keras.Sequential()\n",
    " \n",
    "model.add(Conv2D(32, (3, 3), activation='relu', input_shape=(32, 32, 1)))\n",
    "model.add(MaxPooling2D(pool_size=(2,2)))\n",
    "model.add(Conv2D(32, (3, 3), activation='relu'))\n",
    "model.add(MaxPooling2D(pool_size=(2,2)))\n",
    "model.add(Dropout(0.5))\n",
    " \n",
    "model.add(Flatten())\n",
    "model.add(Dense(128, activation='relu'))\n",
    "model.add(Dense(35, activation='softmax'))\n",
    "\n",
    "model.compile(loss='categorical_crossentropy',\n",
    "              optimizer='adam',\n",
    "              metrics=['accuracy'])"
   ]
  },
  {
   "cell_type": "code",
   "execution_count": 25,
   "metadata": {
    "collapsed": true,
    "jupyter": {
     "outputs_hidden": true,
     "source_hidden": true
    }
   },
   "outputs": [
    {
     "name": "stdout",
     "output_type": "stream",
     "text": [
      "Epoch 1/25\n",
      "493/493 [==============================] - 38s 73ms/step - loss: 2.0143 - accuracy: 0.4469\n",
      "Epoch 2/25\n",
      "493/493 [==============================] - 35s 72ms/step - loss: 0.6042 - accuracy: 0.8143\n",
      "Epoch 3/25\n",
      "493/493 [==============================] - 35s 71ms/step - loss: 0.4330 - accuracy: 0.8645\n",
      "Epoch 4/25\n",
      "493/493 [==============================] - 35s 71ms/step - loss: 0.3499 - accuracy: 0.8878\n",
      "Epoch 5/25\n",
      "493/493 [==============================] - 36s 73ms/step - loss: 0.3218 - accuracy: 0.8967\n",
      "Epoch 6/25\n",
      "493/493 [==============================] - 36s 73ms/step - loss: 0.2710 - accuracy: 0.9135\n",
      "Epoch 7/25\n",
      "493/493 [==============================] - 35s 72ms/step - loss: 0.2453 - accuracy: 0.9184\n",
      "Epoch 8/25\n",
      "493/493 [==============================] - 35s 71ms/step - loss: 0.2199 - accuracy: 0.9259\n",
      "Epoch 9/25\n",
      "493/493 [==============================] - 35s 71ms/step - loss: 0.2165 - accuracy: 0.9262\n",
      "Epoch 10/25\n",
      "493/493 [==============================] - 34s 70ms/step - loss: 0.1896 - accuracy: 0.9357\n",
      "Epoch 11/25\n",
      "493/493 [==============================] - 35s 71ms/step - loss: 0.1773 - accuracy: 0.9357\n",
      "Epoch 12/25\n",
      "493/493 [==============================] - 35s 71ms/step - loss: 0.1756 - accuracy: 0.9387\n",
      "Epoch 13/25\n",
      "493/493 [==============================] - 35s 71ms/step - loss: 0.1662 - accuracy: 0.9377\n",
      "Epoch 14/25\n",
      "493/493 [==============================] - 35s 72ms/step - loss: 0.1558 - accuracy: 0.9469\n",
      "Epoch 15/25\n",
      "493/493 [==============================] - 36s 72ms/step - loss: 0.1461 - accuracy: 0.9481\n",
      "Epoch 16/25\n",
      "493/493 [==============================] - 35s 71ms/step - loss: 0.1423 - accuracy: 0.9494\n",
      "Epoch 17/25\n",
      "493/493 [==============================] - 35s 71ms/step - loss: 0.1384 - accuracy: 0.9475\n",
      "Epoch 18/25\n",
      "493/493 [==============================] - 35s 72ms/step - loss: 0.1214 - accuracy: 0.9592\n",
      "Epoch 19/25\n",
      "493/493 [==============================] - 37s 75ms/step - loss: 0.1349 - accuracy: 0.9501\n",
      "Epoch 20/25\n",
      "493/493 [==============================] - 36s 74ms/step - loss: 0.1135 - accuracy: 0.9586\n",
      "Epoch 21/25\n",
      "493/493 [==============================] - 35s 72ms/step - loss: 0.1184 - accuracy: 0.9570\n",
      "Epoch 22/25\n",
      "493/493 [==============================] - 34s 69ms/step - loss: 0.1049 - accuracy: 0.9611\n",
      "Epoch 23/25\n",
      "493/493 [==============================] - 35s 71ms/step - loss: 0.1064 - accuracy: 0.9615\n",
      "Epoch 24/25\n",
      "493/493 [==============================] - 35s 71ms/step - loss: 0.1021 - accuracy: 0.9616\n",
      "Epoch 25/25\n",
      "493/493 [==============================] - 35s 71ms/step - loss: 0.0995 - accuracy: 0.9623\n",
      "Accuracy on training data: 0.9906666874885559% \n",
      " Error on test data: 0.009333312511444092\n",
      "\n",
      "Accuracy on test data: 0.8668571710586548% \n",
      " Error on test data: 0.13314282894134521\n"
     ]
    }
   ],
   "source": [
    "model.fit(train_X, train_y, \n",
    "          batch_size=32, epochs=25, verbose=1)\n",
    "\n",
    "pred_train= model.predict(train_X)\n",
    "scores = model.evaluate(train_X, train_y, verbose=0)\n",
    "print(f'Accuracy on training data: {scores[1]}% \\n Error on test data: {1 - scores[1]}')   \n",
    "print()\n",
    "pred_test= model.predict(test_X)\n",
    "scores2 = model.evaluate(test_X, test_y, verbose=0)\n",
    "print(f'Accuracy on test data: {scores2[1]}% \\n Error on test data: {1 - scores2[1]}')    "
   ]
  },
  {
   "cell_type": "markdown",
   "metadata": {},
   "source": [
    "### Test 6 - adding another dropout layer 86,1%"
   ]
  },
  {
   "cell_type": "code",
   "execution_count": 27,
   "metadata": {},
   "outputs": [],
   "source": [
    "model = tf.keras.Sequential()\n",
    " \n",
    "model.add(Conv2D(32, (3, 3), activation='relu', input_shape=(32, 32, 1)))\n",
    "model.add(MaxPooling2D(pool_size=(2,2)))\n",
    "model.add(Conv2D(32, (3, 3), activation='relu'))\n",
    "model.add(MaxPooling2D(pool_size=(2,2)))\n",
    "model.add(Dropout(0.5))\n",
    " \n",
    "model.add(Flatten())\n",
    "model.add(Dense(128, activation='relu'))\n",
    "model.add(Dropout(0.5))\n",
    "model.add(Dense(35, activation='softmax'))\n",
    "\n",
    "model.compile(loss='categorical_crossentropy',\n",
    "              optimizer='adam',\n",
    "              metrics=['accuracy'])"
   ]
  },
  {
   "cell_type": "code",
   "execution_count": 28,
   "metadata": {
    "collapsed": true,
    "jupyter": {
     "outputs_hidden": true
    }
   },
   "outputs": [
    {
     "name": "stdout",
     "output_type": "stream",
     "text": [
      "Epoch 1/25\n",
      "493/493 [==============================] - 36s 66ms/step - loss: 2.6413 - accuracy: 0.2752\n",
      "Epoch 2/25\n",
      "493/493 [==============================] - 31s 64ms/step - loss: 1.0117 - accuracy: 0.6993\n",
      "Epoch 3/25\n",
      "493/493 [==============================] - 32s 65ms/step - loss: 0.7851 - accuracy: 0.7575\n",
      "Epoch 4/25\n",
      "493/493 [==============================] - 32s 65ms/step - loss: 0.6623 - accuracy: 0.79470s - loss: 0.6624 - \n",
      "Epoch 5/25\n",
      "493/493 [==============================] - 32s 65ms/step - loss: 0.6031 - accuracy: 0.8130\n",
      "Epoch 6/25\n",
      "493/493 [==============================] - 32s 64ms/step - loss: 0.5832 - accuracy: 0.8172\n",
      "Epoch 7/25\n",
      "493/493 [==============================] - 33s 66ms/step - loss: 0.5262 - accuracy: 0.8339\n",
      "Epoch 8/25\n",
      "493/493 [==============================] - 34s 69ms/step - loss: 0.4992 - accuracy: 0.8442\n",
      "Epoch 9/25\n",
      "493/493 [==============================] - 36s 73ms/step - loss: 0.4601 - accuracy: 0.8517\n",
      "Epoch 10/25\n",
      "493/493 [==============================] - 36s 73ms/step - loss: 0.4534 - accuracy: 0.8542\n",
      "Epoch 11/25\n",
      "493/493 [==============================] - 34s 69ms/step - loss: 0.4435 - accuracy: 0.8611\n",
      "Epoch 12/25\n",
      "493/493 [==============================] - 35s 71ms/step - loss: 0.4166 - accuracy: 0.8658\n",
      "Epoch 13/25\n",
      "493/493 [==============================] - 35s 70ms/step - loss: 0.4247 - accuracy: 0.8638\n",
      "Epoch 14/25\n",
      "493/493 [==============================] - 36s 72ms/step - loss: 0.3969 - accuracy: 0.8739\n",
      "Epoch 15/25\n",
      "493/493 [==============================] - 35s 71ms/step - loss: 0.4013 - accuracy: 0.8761\n",
      "Epoch 16/25\n",
      "493/493 [==============================] - 35s 71ms/step - loss: 0.3843 - accuracy: 0.8773\n",
      "Epoch 17/25\n",
      "493/493 [==============================] - 36s 72ms/step - loss: 0.3827 - accuracy: 0.8716\n",
      "Epoch 18/25\n",
      "493/493 [==============================] - 36s 73ms/step - loss: 0.3596 - accuracy: 0.8807\n",
      "Epoch 19/25\n",
      "493/493 [==============================] - 36s 73ms/step - loss: 0.3509 - accuracy: 0.8833\n",
      "Epoch 20/25\n",
      "493/493 [==============================] - 36s 72ms/step - loss: 0.3575 - accuracy: 0.8822\n",
      "Epoch 21/25\n",
      "493/493 [==============================] - 35s 71ms/step - loss: 0.3583 - accuracy: 0.8830\n",
      "Epoch 22/25\n",
      "493/493 [==============================] - 36s 73ms/step - loss: 0.3063 - accuracy: 0.8996\n",
      "Epoch 23/25\n",
      "493/493 [==============================] - 35s 71ms/step - loss: 0.3382 - accuracy: 0.8844\n",
      "Epoch 24/25\n",
      "493/493 [==============================] - 35s 70ms/step - loss: 0.3324 - accuracy: 0.8932\n",
      "Epoch 25/25\n",
      "493/493 [==============================] - 36s 72ms/step - loss: 0.3139 - accuracy: 0.8946\n",
      "Accuracy on training data: 0.9679999947547913% \n",
      " Error on test data: 0.03200000524520874\n",
      "\n",
      "Accuracy on test data: 0.8611428737640381% \n",
      " Error on test data: 0.13885712623596191\n"
     ]
    }
   ],
   "source": [
    "model.fit(train_X, train_y, \n",
    "          batch_size=32, epochs=25, verbose=1)\n",
    "\n",
    "pred_train= model.predict(train_X)\n",
    "scores = model.evaluate(train_X, train_y, verbose=0)\n",
    "print(f'Accuracy on training data: {scores[1]}% \\n Error on test data: {1 - scores[1]}')   \n",
    "print()\n",
    "pred_test= model.predict(test_X)\n",
    "scores2 = model.evaluate(test_X, test_y, verbose=0)\n",
    "print(f'Accuracy on test data: {scores2[1]}% \\n Error on test data: {1 - scores2[1]}')    "
   ]
  },
  {
   "cell_type": "markdown",
   "metadata": {},
   "source": [
    "### Test 7 - adding another Conv2D and MaxPooling2D 86,9%"
   ]
  },
  {
   "cell_type": "code",
   "execution_count": 29,
   "metadata": {},
   "outputs": [],
   "source": [
    "model = tf.keras.Sequential()\n",
    " \n",
    "model.add(Conv2D(32, (3, 3), activation='relu', input_shape=(32, 32, 1)))\n",
    "model.add(MaxPooling2D(pool_size=(2,2)))\n",
    "model.add(Conv2D(32, (3, 3), activation='relu'))\n",
    "model.add(MaxPooling2D(pool_size=(2,2)))\n",
    "model.add(Conv2D(32, (3, 3), activation='relu'))\n",
    "model.add(MaxPooling2D(pool_size=(2,2)))\n",
    "model.add(Dropout(0.5))\n",
    " \n",
    "model.add(Flatten())\n",
    "model.add(Dense(128, activation='relu'))\n",
    "model.add(Dense(35, activation='softmax'))\n",
    "\n",
    "model.compile(loss='categorical_crossentropy',\n",
    "              optimizer='adam',\n",
    "              metrics=['accuracy'])"
   ]
  },
  {
   "cell_type": "code",
   "execution_count": 30,
   "metadata": {
    "collapsed": true,
    "jupyter": {
     "outputs_hidden": true
    }
   },
   "outputs": [
    {
     "name": "stdout",
     "output_type": "stream",
     "text": [
      "Epoch 1/25\n",
      "493/493 [==============================] - 39s 74ms/step - loss: 2.7882 - accuracy: 0.2270\n",
      "Epoch 2/25\n",
      "493/493 [==============================] - 36s 73ms/step - loss: 1.1217 - accuracy: 0.6563\n",
      "Epoch 3/25\n",
      "493/493 [==============================] - 34s 69ms/step - loss: 0.8634 - accuracy: 0.7347\n",
      "Epoch 4/25\n",
      "493/493 [==============================] - 35s 71ms/step - loss: 0.7485 - accuracy: 0.7644\n",
      "Epoch 5/25\n",
      "493/493 [==============================] - 39s 80ms/step - loss: 0.6763 - accuracy: 0.7879\n",
      "Epoch 6/25\n",
      "493/493 [==============================] - 41s 84ms/step - loss: 0.6131 - accuracy: 0.80561s - loss: 0\n",
      "Epoch 7/25\n",
      "493/493 [==============================] - 35s 71ms/step - loss: 0.5876 - accuracy: 0.8154\n",
      "Epoch 8/25\n",
      "493/493 [==============================] - 34s 69ms/step - loss: 0.5508 - accuracy: 0.81960s - los\n",
      "Epoch 9/25\n",
      "493/493 [==============================] - 36s 72ms/step - loss: 0.5173 - accuracy: 0.8350\n",
      "Epoch 10/25\n",
      "493/493 [==============================] - 43s 87ms/step - loss: 0.5017 - accuracy: 0.8361\n",
      "Epoch 11/25\n",
      "493/493 [==============================] - 33s 68ms/step - loss: 0.4715 - accuracy: 0.8454\n",
      "Epoch 12/25\n",
      "493/493 [==============================] - 34s 68ms/step - loss: 0.4723 - accuracy: 0.8459\n",
      "Epoch 13/25\n",
      "493/493 [==============================] - 38s 77ms/step - loss: 0.4554 - accuracy: 0.8488\n",
      "Epoch 14/25\n",
      "493/493 [==============================] - 34s 69ms/step - loss: 0.4333 - accuracy: 0.8618\n",
      "Epoch 15/25\n",
      "493/493 [==============================] - 36s 72ms/step - loss: 0.4201 - accuracy: 0.8606\n",
      "Epoch 16/25\n",
      "493/493 [==============================] - 42s 86ms/step - loss: 0.4255 - accuracy: 0.8618\n",
      "Epoch 17/25\n",
      "493/493 [==============================] - 48s 98ms/step - loss: 0.4064 - accuracy: 0.8643\n",
      "Epoch 18/25\n",
      "493/493 [==============================] - 49s 99ms/step - loss: 0.3965 - accuracy: 0.8730\n",
      "Epoch 19/25\n",
      "493/493 [==============================] - 43s 86ms/step - loss: 0.3906 - accuracy: 0.8722\n",
      "Epoch 20/25\n",
      "493/493 [==============================] - 44s 89ms/step - loss: 0.3903 - accuracy: 0.8698\n",
      "Epoch 21/25\n",
      "493/493 [==============================] - 35s 71ms/step - loss: 0.3679 - accuracy: 0.8781\n",
      "Epoch 22/25\n",
      "493/493 [==============================] - 35s 71ms/step - loss: 0.3571 - accuracy: 0.8785\n",
      "Epoch 23/25\n",
      "493/493 [==============================] - 41s 84ms/step - loss: 0.3657 - accuracy: 0.8815\n",
      "Epoch 24/25\n",
      "493/493 [==============================] - 36s 74ms/step - loss: 0.3506 - accuracy: 0.8818\n",
      "Epoch 25/25\n",
      "493/493 [==============================] - 36s 73ms/step - loss: 0.3416 - accuracy: 0.8835\n",
      "Accuracy on training data: 0.9565714001655579% \n",
      " Error on test data: 0.04342859983444214\n",
      "\n",
      "Accuracy on test data: 0.868571400642395% \n",
      " Error on test data: 0.13142859935760498\n"
     ]
    }
   ],
   "source": [
    "model.fit(train_X, train_y, \n",
    "          batch_size=32, epochs=25, verbose=1)\n",
    "\n",
    "pred_train= model.predict(train_X)\n",
    "scores = model.evaluate(train_X, train_y, verbose=0)\n",
    "print(f'Accuracy on training data: {scores[1]}% \\n Error on test data: {1 - scores[1]}')   \n",
    "print()\n",
    "pred_test= model.predict(test_X)\n",
    "scores2 = model.evaluate(test_X, test_y, verbose=0)\n",
    "print(f'Accuracy on test data: {scores2[1]}% \\n Error on test data: {1 - scores2[1]}')    "
   ]
  },
  {
   "cell_type": "markdown",
   "metadata": {},
   "source": [
    "### Test 8 - adding two smaller Dense layers 85%"
   ]
  },
  {
   "cell_type": "code",
   "execution_count": 31,
   "metadata": {},
   "outputs": [],
   "source": [
    "model = tf.keras.Sequential()\n",
    " \n",
    "model.add(Conv2D(32, (3, 3), activation='relu', input_shape=(32, 32, 1)))\n",
    "model.add(MaxPooling2D(pool_size=(2,2)))\n",
    "model.add(Conv2D(32, (3, 3), activation='relu'))\n",
    "model.add(MaxPooling2D(pool_size=(2,2)))\n",
    "model.add(Conv2D(32, (3, 3), activation='relu'))\n",
    "model.add(MaxPooling2D(pool_size=(2,2)))\n",
    "model.add(Dropout(0.5))\n",
    " \n",
    "model.add(Flatten())\n",
    "model.add(Dense(64, activation='relu'))\n",
    "model.add(Dense(64, activation='relu'))\n",
    "model.add(Dense(35, activation='softmax'))\n",
    "\n",
    "model.compile(loss='categorical_crossentropy',\n",
    "              optimizer='adam',\n",
    "              metrics=['accuracy'])"
   ]
  },
  {
   "cell_type": "code",
   "execution_count": 32,
   "metadata": {
    "collapsed": true,
    "jupyter": {
     "outputs_hidden": true
    }
   },
   "outputs": [
    {
     "name": "stdout",
     "output_type": "stream",
     "text": [
      "Epoch 1/25\n",
      "493/493 [==============================] - 40s 77ms/step - loss: 2.9688 - accuracy: 0.1761\n",
      "Epoch 2/25\n",
      "493/493 [==============================] - 44s 89ms/step - loss: 1.2583 - accuracy: 0.6123\n",
      "Epoch 3/25\n",
      "493/493 [==============================] - 35s 72ms/step - loss: 0.9903 - accuracy: 0.6978\n",
      "Epoch 4/25\n",
      "493/493 [==============================] - 41s 83ms/step - loss: 0.8421 - accuracy: 0.7318\n",
      "Epoch 5/25\n",
      "493/493 [==============================] - 49s 99ms/step - loss: 0.7736 - accuracy: 0.7615\n",
      "Epoch 6/25\n",
      "493/493 [==============================] - 65s 132ms/step - loss: 0.7065 - accuracy: 0.7819\n",
      "Epoch 7/25\n",
      "493/493 [==============================] - 41s 83ms/step - loss: 0.6422 - accuracy: 0.7985\n",
      "Epoch 8/25\n",
      "493/493 [==============================] - 46s 94ms/step - loss: 0.6256 - accuracy: 0.7984\n",
      "Epoch 9/25\n",
      "493/493 [==============================] - 34s 69ms/step - loss: 0.5799 - accuracy: 0.8163\n",
      "Epoch 10/25\n",
      "493/493 [==============================] - 29s 60ms/step - loss: 0.5632 - accuracy: 0.8208\n",
      "Epoch 11/25\n",
      "493/493 [==============================] - 28s 56ms/step - loss: 0.5513 - accuracy: 0.8253\n",
      "Epoch 12/25\n",
      "493/493 [==============================] - 33s 68ms/step - loss: 0.5103 - accuracy: 0.8405\n",
      "Epoch 13/25\n",
      "493/493 [==============================] - 42s 84ms/step - loss: 0.4944 - accuracy: 0.8426\n",
      "Epoch 14/25\n",
      "493/493 [==============================] - 39s 80ms/step - loss: 0.4223 - accuracy: 0.8612\n",
      "Epoch 20/25\n",
      "493/493 [==============================] - 35s 71ms/step - loss: 0.4349 - accuracy: 0.8594\n",
      "Epoch 21/25\n",
      "493/493 [==============================] - 35s 70ms/step - loss: 0.4300 - accuracy: 0.8583\n",
      "Epoch 22/25\n",
      "493/493 [==============================] - 35s 71ms/step - loss: 0.3983 - accuracy: 0.8683\n",
      "Epoch 23/25\n",
      "493/493 [==============================] - 34s 69ms/step - loss: 0.4092 - accuracy: 0.8699\n",
      "Epoch 24/25\n",
      "493/493 [==============================] - 34s 70ms/step - loss: 0.3872 - accuracy: 0.8780\n",
      "Epoch 25/25\n",
      "493/493 [==============================] - 34s 70ms/step - loss: 0.3901 - accuracy: 0.8681\n",
      "Accuracy on training data: 0.9474285840988159% \n",
      " Error on test data: 0.05257141590118408\n",
      "\n",
      "Accuracy on test data: 0.8502857089042664% \n",
      " Error on test data: 0.14971429109573364\n"
     ]
    }
   ],
   "source": [
    "model.fit(train_X, train_y, \n",
    "          batch_size=32, epochs=25, verbose=1)\n",
    "\n",
    "pred_train= model.predict(train_X)\n",
    "scores = model.evaluate(train_X, train_y, verbose=0)\n",
    "print(f'Accuracy on training data: {scores[1]}% \\n Error on test data: {1 - scores[1]}')   \n",
    "print()\n",
    "pred_test= model.predict(test_X)\n",
    "scores2 = model.evaluate(test_X, test_y, verbose=0)\n",
    "print(f'Accuracy on test data: {scores2[1]}% \\n Error on test data: {1 - scores2[1]}')"
   ]
  },
  {
   "cell_type": "markdown",
   "metadata": {},
   "source": [
    "### Test 9 - Spatial Dopout 86,6%"
   ]
  },
  {
   "cell_type": "code",
   "execution_count": 20,
   "metadata": {},
   "outputs": [],
   "source": [
    "model = tf.keras.Sequential()\n",
    " \n",
    "model.add(Conv2D(32, (3, 3), activation='relu', input_shape=(32, 32, 1)))\n",
    "model.add(MaxPooling2D(pool_size=(2,2)))\n",
    "model.add(Conv2D(32, (3, 3), activation='relu'))\n",
    "model.add(MaxPooling2D(pool_size=(2,2)))\n",
    "model.add(Conv2D(32, (3, 3), activation='relu'))\n",
    "model.add(MaxPooling2D(pool_size=(2,2)))\n",
    "model.add(SpatialDropout2D(0.5))\n",
    " \n",
    "model.add(Flatten())\n",
    "model.add(Dense(128, activation='relu'))\n",
    "model.add(Dense(35, activation='softmax'))\n",
    "\n",
    "model.compile(loss='categorical_crossentropy',\n",
    "              optimizer='adam',\n",
    "              metrics=['accuracy'])"
   ]
  },
  {
   "cell_type": "code",
   "execution_count": 21,
   "metadata": {
    "collapsed": true,
    "jupyter": {
     "outputs_hidden": true
    }
   },
   "outputs": [
    {
     "name": "stdout",
     "output_type": "stream",
     "text": [
      "Epoch 1/25\n",
      "493/493 [==============================] - 32s 61ms/step - loss: 2.7342 - accuracy: 0.25010s - loss: 2.7447 - accuracy\n",
      "Epoch 2/25\n",
      "493/493 [==============================] - 24s 49ms/step - loss: 1.0573 - accuracy: 0.6865\n",
      "Epoch 3/25\n",
      "493/493 [==============================] - 24s 49ms/step - loss: 0.7912 - accuracy: 0.7550\n",
      "Epoch 4/25\n",
      "493/493 [==============================] - 25s 51ms/step - loss: 0.6888 - accuracy: 0.7917\n",
      "Epoch 5/25\n",
      "493/493 [==============================] - 26s 52ms/step - loss: 0.6352 - accuracy: 0.8040\n",
      "Epoch 6/25\n",
      "493/493 [==============================] - 27s 54ms/step - loss: 0.5564 - accuracy: 0.8227\n",
      "Epoch 7/25\n",
      "493/493 [==============================] - 27s 54ms/step - loss: 0.5385 - accuracy: 0.8322\n",
      "Epoch 8/25\n",
      "493/493 [==============================] - 26s 52ms/step - loss: 0.5109 - accuracy: 0.8450\n",
      "Epoch 9/25\n",
      "493/493 [==============================] - 26s 54ms/step - loss: 0.4648 - accuracy: 0.8554\n",
      "Epoch 10/25\n",
      "493/493 [==============================] - 26s 52ms/step - loss: 0.4456 - accuracy: 0.8560\n",
      "Epoch 11/25\n",
      "493/493 [==============================] - 25s 50ms/step - loss: 0.4482 - accuracy: 0.8578\n",
      "Epoch 12/25\n",
      "493/493 [==============================] - 28s 56ms/step - loss: 0.4130 - accuracy: 0.86780s - loss:\n",
      "Epoch 13/25\n",
      "493/493 [==============================] - 28s 58ms/step - loss: 0.3951 - accuracy: 0.8734\n",
      "Epoch 14/25\n",
      "493/493 [==============================] - 25s 50ms/step - loss: 0.3855 - accuracy: 0.8803\n",
      "Epoch 15/25\n",
      "493/493 [==============================] - 27s 55ms/step - loss: 0.3697 - accuracy: 0.8766\n",
      "Epoch 16/25\n",
      "493/493 [==============================] - 26s 53ms/step - loss: 0.3676 - accuracy: 0.8797\n",
      "Epoch 17/25\n",
      "493/493 [==============================] - 26s 52ms/step - loss: 0.3444 - accuracy: 0.8863\n",
      "Epoch 18/25\n",
      "493/493 [==============================] - 26s 53ms/step - loss: 0.3386 - accuracy: 0.89171s - loss:\n",
      "Epoch 19/25\n",
      "493/493 [==============================] - 26s 54ms/step - loss: 0.3204 - accuracy: 0.8982\n",
      "Epoch 20/25\n",
      "493/493 [==============================] - 26s 53ms/step - loss: 0.3199 - accuracy: 0.8949\n",
      "Epoch 21/25\n",
      "493/493 [==============================] - 38s 77ms/step - loss: 0.3053 - accuracy: 0.89871s - loss: 0.305\n",
      "Epoch 22/25\n",
      "493/493 [==============================] - 25s 51ms/step - loss: 0.3070 - accuracy: 0.8979\n",
      "Epoch 23/25\n",
      "493/493 [==============================] - 26s 54ms/step - loss: 0.3089 - accuracy: 0.8947\n",
      "Epoch 24/25\n",
      "493/493 [==============================] - 26s 52ms/step - loss: 0.2813 - accuracy: 0.9077\n",
      "Epoch 25/25\n",
      "493/493 [==============================] - 26s 52ms/step - loss: 0.2917 - accuracy: 0.9062\n",
      "Accuracy on training data: 0.9636825323104858% \n",
      " Error on test data: 0.03631746768951416\n",
      "\n",
      "Accuracy on test data: 0.8662857413291931% \n",
      " Error on test data: 0.13371425867080688\n"
     ]
    }
   ],
   "source": [
    "model.fit(train_X, train_y, \n",
    "          batch_size=32, epochs=25, verbose=1)\n",
    "\n",
    "pred_train= model.predict(train_X)\n",
    "scores = model.evaluate(train_X, train_y, verbose=0)\n",
    "print(f'Accuracy on training data: {scores[1]}% \\n Error on test data: {1 - scores[1]}')   \n",
    "print()\n",
    "pred_test= model.predict(test_X)\n",
    "scores2 = model.evaluate(test_X, test_y, verbose=0)\n",
    "print(f'Accuracy on test data: {scores2[1]}% \\n Error on test data: {1 - scores2[1]}')"
   ]
  },
  {
   "cell_type": "markdown",
   "metadata": {},
   "source": [
    "### Test 10 - no preprocessing 85,7%"
   ]
  },
  {
   "cell_type": "code",
   "execution_count": 39,
   "metadata": {},
   "outputs": [],
   "source": [
    "model = tf.keras.Sequential()\n",
    " \n",
    "model.add(Conv2D(32, (3, 3), activation='relu', input_shape=(32, 32, 1)))\n",
    "model.add(MaxPooling2D(pool_size=(2,2)))\n",
    "model.add(Conv2D(32, (3, 3), activation='relu'))\n",
    "model.add(MaxPooling2D(pool_size=(2,2)))\n",
    "model.add(Conv2D(32, (3, 3), activation='relu'))\n",
    "model.add(MaxPooling2D(pool_size=(2,2)))\n",
    "model.add(Dropout(0.5))\n",
    " \n",
    "model.add(Flatten())\n",
    "model.add(Dense(128, activation='relu'))\n",
    "model.add(Dense(35, activation='softmax'))\n",
    "\n",
    "model.compile(loss='categorical_crossentropy',\n",
    "              optimizer='adam',\n",
    "              metrics=['accuracy'])"
   ]
  },
  {
   "cell_type": "code",
   "execution_count": 42,
   "metadata": {
    "collapsed": true,
    "jupyter": {
     "outputs_hidden": true
    }
   },
   "outputs": [
    {
     "name": "stdout",
     "output_type": "stream",
     "text": [
      "Model: \"sequential_4\"\n",
      "_________________________________________________________________\n",
      "Layer (type)                 Output Shape              Param #   \n",
      "=================================================================\n",
      "conv2d_12 (Conv2D)           (None, 30, 30, 32)        320       \n",
      "_________________________________________________________________\n",
      "max_pooling2d_12 (MaxPooling (None, 15, 15, 32)        0         \n",
      "_________________________________________________________________\n",
      "conv2d_13 (Conv2D)           (None, 13, 13, 32)        9248      \n",
      "_________________________________________________________________\n",
      "max_pooling2d_13 (MaxPooling (None, 6, 6, 32)          0         \n",
      "_________________________________________________________________\n",
      "conv2d_14 (Conv2D)           (None, 4, 4, 32)          9248      \n",
      "_________________________________________________________________\n",
      "max_pooling2d_14 (MaxPooling (None, 2, 2, 32)          0         \n",
      "_________________________________________________________________\n",
      "dropout (Dropout)            (None, 2, 2, 32)          0         \n",
      "_________________________________________________________________\n",
      "flatten_4 (Flatten)          (None, 128)               0         \n",
      "_________________________________________________________________\n",
      "dense_8 (Dense)              (None, 128)               16512     \n",
      "_________________________________________________________________\n",
      "dense_9 (Dense)              (None, 35)                4515      \n",
      "=================================================================\n",
      "Total params: 39,843\n",
      "Trainable params: 39,843\n",
      "Non-trainable params: 0\n",
      "_________________________________________________________________\n"
     ]
    }
   ],
   "source": [
    "model.summary()"
   ]
  },
  {
   "cell_type": "code",
   "execution_count": 40,
   "metadata": {
    "collapsed": true,
    "jupyter": {
     "outputs_hidden": true
    }
   },
   "outputs": [
    {
     "name": "stdout",
     "output_type": "stream",
     "text": [
      "Epoch 1/25\n",
      "493/493 [==============================] - 53s 101ms/step - loss: 2.8054 - accuracy: 0.2320\n",
      "Epoch 2/25\n",
      "493/493 [==============================] - 46s 94ms/step - loss: 1.0758 - accuracy: 0.6775\n",
      "Epoch 3/25\n",
      "493/493 [==============================] - 51s 103ms/step - loss: 0.8178 - accuracy: 0.7501\n",
      "Epoch 4/25\n",
      "493/493 [==============================] - 63s 129ms/step - loss: 0.7251 - accuracy: 0.7738\n",
      "Epoch 5/25\n",
      "493/493 [==============================] - 75s 153ms/step - loss: 0.6463 - accuracy: 0.7970\n",
      "Epoch 6/25\n",
      "493/493 [==============================] - 72s 146ms/step - loss: 0.6035 - accuracy: 0.8060\n",
      "Epoch 7/25\n",
      "493/493 [==============================] - 37s 75ms/step - loss: 0.5580 - accuracy: 0.8254\n",
      "Epoch 8/25\n",
      "493/493 [==============================] - 36s 74ms/step - loss: 0.5450 - accuracy: 0.8277\n",
      "Epoch 9/25\n",
      "493/493 [==============================] - 37s 74ms/step - loss: 0.5185 - accuracy: 0.8391\n",
      "Epoch 10/25\n",
      "493/493 [==============================] - 36s 74ms/step - loss: 0.4981 - accuracy: 0.8439\n",
      "Epoch 11/25\n",
      "493/493 [==============================] - 36s 73ms/step - loss: 0.4844 - accuracy: 0.8449\n",
      "Epoch 12/25\n",
      "493/493 [==============================] - 36s 74ms/step - loss: 0.4582 - accuracy: 0.8474\n",
      "Epoch 13/25\n",
      "493/493 [==============================] - 37s 76ms/step - loss: 0.4546 - accuracy: 0.8539\n",
      "Epoch 14/25\n",
      "493/493 [==============================] - 37s 75ms/step - loss: 0.4521 - accuracy: 0.8569\n",
      "Epoch 15/25\n",
      "493/493 [==============================] - 37s 76ms/step - loss: 0.4180 - accuracy: 0.8661\n",
      "Epoch 16/25\n",
      "493/493 [==============================] - 35s 71ms/step - loss: 0.4079 - accuracy: 0.8694\n",
      "Epoch 17/25\n",
      "493/493 [==============================] - 36s 72ms/step - loss: 0.3861 - accuracy: 0.8710\n",
      "Epoch 18/25\n",
      "493/493 [==============================] - 36s 73ms/step - loss: 0.3763 - accuracy: 0.8740\n",
      "Epoch 19/25\n",
      "493/493 [==============================] - 35s 71ms/step - loss: 0.3739 - accuracy: 0.8773\n",
      "Epoch 20/25\n",
      "493/493 [==============================] - 35s 72ms/step - loss: 0.3620 - accuracy: 0.8839\n",
      "Epoch 21/25\n",
      "493/493 [==============================] - 35s 72ms/step - loss: 0.3658 - accuracy: 0.8800\n",
      "Epoch 22/25\n",
      "493/493 [==============================] - 35s 71ms/step - loss: 0.3442 - accuracy: 0.8878\n",
      "Epoch 23/25\n",
      "493/493 [==============================] - 30s 61ms/step - loss: 0.3217 - accuracy: 0.8921\n",
      "Epoch 24/25\n",
      "493/493 [==============================] - 25s 52ms/step - loss: 0.3388 - accuracy: 0.8835\n",
      "Epoch 25/25\n",
      "493/493 [==============================] - 26s 52ms/step - loss: 0.3071 - accuracy: 0.8976\n",
      "Accuracy on training data: 0.9549206495285034% \n",
      " Error on test data: 0.04507935047149658\n",
      "\n",
      "Accuracy on test data: 0.8571428656578064% \n",
      " Error on test data: 0.1428571343421936\n"
     ]
    }
   ],
   "source": [
    "model.fit(train_X, train_y, \n",
    "          batch_size=32, epochs=25, verbose=1)\n",
    "\n",
    "pred_train= model.predict(train_X)\n",
    "scores = model.evaluate(train_X, train_y, verbose=0)\n",
    "print(f'Accuracy on training data: {scores[1]}% \\n Error on test data: {1 - scores[1]}')   \n",
    "print()\n",
    "pred_test= model.predict(test_X)\n",
    "scores2 = model.evaluate(test_X, test_y, verbose=0)\n",
    "print(f'Accuracy on test data: {scores2[1]}% \\n Error on test data: {1 - scores2[1]}')"
   ]
  },
  {
   "cell_type": "markdown",
   "metadata": {},
   "source": [
    "### Test 11 - loading image with Keras, 1000 images 94,1%"
   ]
  },
  {
   "cell_type": "code",
   "execution_count": 62,
   "metadata": {},
   "outputs": [],
   "source": [
    "model = tf.keras.Sequential()\n",
    " \n",
    "model.add(Conv2D(32, (3, 3), activation='relu', input_shape=(32, 32, 1)))\n",
    "model.add(MaxPooling2D(pool_size=(2,2)))\n",
    "model.add(Conv2D(32, (3, 3), activation='relu'))\n",
    "model.add(MaxPooling2D(pool_size=(2,2)))\n",
    "model.add(Conv2D(32, (3, 3), activation='relu'))\n",
    "model.add(MaxPooling2D(pool_size=(2,2)))\n",
    "model.add(Dropout(0.5))\n",
    " \n",
    "model.add(Flatten())\n",
    "model.add(Dense(128, activation='relu'))\n",
    "model.add(Dense(35, activation='softmax'))\n",
    "\n",
    "model.compile(loss='categorical_crossentropy',\n",
    "              optimizer='adam',\n",
    "              metrics=['accuracy'])"
   ]
  },
  {
   "cell_type": "code",
   "execution_count": 63,
   "metadata": {},
   "outputs": [
    {
     "name": "stdout",
     "output_type": "stream",
     "text": [
      "Epoch 1/25\n",
      "985/985 [==============================] - 73s 73ms/step - loss: 2.3509 - accuracy: 0.3406\n",
      "Epoch 2/25\n",
      "985/985 [==============================] - 77s 79ms/step - loss: 0.8851 - accuracy: 0.7295\n",
      "Epoch 3/25\n",
      "985/985 [==============================] - 76s 77ms/step - loss: 0.7400 - accuracy: 0.7710\n",
      "Epoch 4/25\n",
      "985/985 [==============================] - 81s 82ms/step - loss: 0.6410 - accuracy: 0.7975\n",
      "Epoch 5/25\n",
      "985/985 [==============================] - 79s 80ms/step - loss: 0.5916 - accuracy: 0.8147\n",
      "Epoch 6/25\n",
      "985/985 [==============================] - 76s 77ms/step - loss: 0.5447 - accuracy: 0.8287\n",
      "Epoch 7/25\n",
      "985/985 [==============================] - 79s 80ms/step - loss: 0.5190 - accuracy: 0.8339\n",
      "Epoch 8/25\n",
      "985/985 [==============================] - 77s 78ms/step - loss: 0.4844 - accuracy: 0.8455\n",
      "Epoch 9/25\n",
      "985/985 [==============================] - 78s 80ms/step - loss: 0.4600 - accuracy: 0.8533\n",
      "Epoch 10/25\n",
      "985/985 [==============================] - 76s 77ms/step - loss: 0.4450 - accuracy: 0.8565\n",
      "Epoch 11/25\n",
      "985/985 [==============================] - 76s 77ms/step - loss: 0.4220 - accuracy: 0.8638\n",
      "Epoch 12/25\n",
      "985/985 [==============================] - 77s 78ms/step - loss: 0.4178 - accuracy: 0.8611\n",
      "Epoch 13/25\n",
      "985/985 [==============================] - 75s 76ms/step - loss: 0.3961 - accuracy: 0.8719\n",
      "Epoch 14/25\n",
      "985/985 [==============================] - 75s 76ms/step - loss: 0.3882 - accuracy: 0.8743\n",
      "Epoch 15/25\n",
      "985/985 [==============================] - 72s 73ms/step - loss: 0.3793 - accuracy: 0.8753\n",
      "Epoch 16/25\n",
      "985/985 [==============================] - 75s 76ms/step - loss: 0.3724 - accuracy: 0.8798\n",
      "Epoch 17/25\n",
      "985/985 [==============================] - 81s 82ms/step - loss: 0.3595 - accuracy: 0.8851\n",
      "Epoch 18/25\n",
      "985/985 [==============================] - 85s 86ms/step - loss: 0.3610 - accuracy: 0.8785\n",
      "Epoch 19/25\n",
      "985/985 [==============================] - 96s 98ms/step - loss: 0.3404 - accuracy: 0.8879\n",
      "Epoch 20/25\n",
      "985/985 [==============================] - 91s 92ms/step - loss: 0.3479 - accuracy: 0.8880\n",
      "Epoch 21/25\n",
      "985/985 [==============================] - 84s 86ms/step - loss: 0.3299 - accuracy: 0.8893\n",
      "Epoch 22/25\n",
      "985/985 [==============================] - 86s 87ms/step - loss: 0.3365 - accuracy: 0.8912\n",
      "Epoch 23/25\n",
      "985/985 [==============================] - 82s 83ms/step - loss: 0.3323 - accuracy: 0.88944s - loss: 0.3324 - accuracy: 0.88 - ETA: 4s - los - E\n",
      "Epoch 24/25\n",
      "985/985 [==============================] - 90s 92ms/step - loss: 0.3177 - accuracy: 0.89601s - loss: 0.3\n",
      "Epoch 25/25\n",
      "985/985 [==============================] - 91s 92ms/step - loss: 0.3204 - accuracy: 0.8965\n",
      "Accuracy on training data: 0.9539365172386169% \n",
      " Error on test data: 0.04606348276138306\n",
      "\n",
      "Accuracy on test data: 0.9417142868041992% \n",
      " Error on test data: 0.05828571319580078\n"
     ]
    }
   ],
   "source": [
    "model.fit(train_X, train_y, \n",
    "          batch_size=32, epochs=25, verbose=1)\n",
    "\n",
    "pred_train= model.predict(train_X)\n",
    "scores = model.evaluate(train_X, train_y, verbose=0)\n",
    "print(f'Accuracy on training data: {scores[1]}% \\n Error on test data: {1 - scores[1]}')   \n",
    "print()\n",
    "pred_test= model.predict(test_X)\n",
    "scores2 = model.evaluate(test_X, test_y, verbose=0)\n",
    "print(f'Accuracy on test data: {scores2[1]}% \\n Error on test data: {1 - scores2[1]}')"
   ]
  }
 ],
 "metadata": {
  "kernelspec": {
   "display_name": "Python 3",
   "language": "python",
   "name": "python3"
  },
  "language_info": {
   "codemirror_mode": {
    "name": "ipython",
    "version": 3
   },
   "file_extension": ".py",
   "mimetype": "text/x-python",
   "name": "python",
   "nbconvert_exporter": "python",
   "pygments_lexer": "ipython3",
   "version": "3.8.5"
  }
 },
 "nbformat": 4,
 "nbformat_minor": 5
}
