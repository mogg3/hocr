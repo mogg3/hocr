{
 "cells": [
  {
   "cell_type": "code",
   "execution_count": 46,
   "id": "9d11b9fa-2c43-43f2-843d-fdff7bb0683f",
   "metadata": {
    "tags": []
   },
   "outputs": [],
   "source": [
    "import tensorflow as tf\n",
    "import numpy as np\n",
    "import matplotlib.pyplot as plt\n",
    "import cv2\n",
    "import os\n",
    "import re\n",
    "from tensorflow import keras\n",
    "import time\n",
    "import pickle"
   ]
  },
  {
   "cell_type": "code",
   "execution_count": 2,
   "id": "c77b7255-7ff6-410d-95cd-02b9a8ecc79a",
   "metadata": {},
   "outputs": [],
   "source": [
    "def sorted_alphanumeric(data):\n",
    "    convert = lambda text: int(text) if text.isdigit() else text.lower()\n",
    "    alphanum_key = lambda key: [ convert(c) for c in re.split('([0-9]+)', key) ]\n",
    "    return sorted(data, key=alphanum_key)"
   ]
  },
  {
   "cell_type": "code",
   "execution_count": 3,
   "id": "3cc92e25-1c60-42db-a68b-f913b0386e21",
   "metadata": {},
   "outputs": [],
   "source": [
    "def load_img(src):\n",
    "    img = cv2.imread(src)\n",
    "    img = cv2.cvtColor(img, cv2.COLOR_BGR2GRAY)\n",
    "    if not img.shape == (32, 32):\n",
    "        img = cv2.resize(img, (32, 32))\n",
    "    _, img = cv2.threshold(img, 127, 255, cv2.THRESH_BINARY_INV)\n",
    "    img = cv2.bitwise_not(img)\n",
    "    img = img.flatten()\n",
    "    img = img.astype('int32')\n",
    "    return img"
   ]
  },
  {
   "cell_type": "code",
   "execution_count": null,
   "id": "94511fa1-d876-4fb4-a4bd-62a04cd4e9b1",
   "metadata": {},
   "outputs": [],
   "source": [
    "start = time.time()\n",
    "\n",
    "char_dict = {\"char\": [], \"matrix\": []}\n",
    "char_set = dict()\n",
    "src = r\"dataset/handwritten_letters\"\n",
    "for i in range(500):\n",
    "    for folder in os.listdir(src):\n",
    "        char_dict[\"char\"].append(folder)\n",
    "        if folder not in char_set:\n",
    "            char_set[folder] = sorted_alphanumeric(os.listdir(src + '/' + folder))\n",
    "        img = load_img(f\"{src}/{folder}/{char_set[folder][i]}\")\n",
    "        char_dict[\"matrix\"].append(img)\n",
    "\n",
    "\n",
    "stop = time.time()\n",
    "print(stop-start, 'seconds')"
   ]
  },
  {
   "cell_type": "code",
   "execution_count": 5,
   "id": "9c0433d5-3cb5-4492-a8b6-d89a9211f50c",
   "metadata": {},
   "outputs": [
    {
     "name": "stderr",
     "output_type": "stream",
     "text": [
      "/Users/marcuseriksson/opt/anaconda3/envs/tf/lib/python3.7/site-packages/category_encoders/utils.py:21: FutureWarning: is_categorical is deprecated and will be removed in a future version.  Use is_categorical_dtype instead\n",
      "  elif pd.api.types.is_categorical(cols):\n"
     ]
    }
   ],
   "source": [
    "import category_encoders as ce\n",
    "le =  ce.OneHotEncoder(return_df=False, handle_unknown=\"ignore\")\n",
    "y = np.array(char_dict['char'])\n",
    "\n",
    "y = le.fit_transform(y)\n",
    "X = np.array(char_dict[\"matrix\"])"
   ]
  },
  {
   "cell_type": "code",
   "execution_count": 6,
   "id": "27e229aa-66b0-44e7-bc50-8e5adccece14",
   "metadata": {},
   "outputs": [],
   "source": [
    "split = int(round(0.9 * len(X)))\n",
    "\n",
    "train_X = X[:split]/255\n",
    "train_y = y[:split]\n",
    "test_X = X[split:]/255\n",
    "test_y = y[split:]"
   ]
  },
  {
   "cell_type": "code",
   "execution_count": 7,
   "id": "b0d05264-2ac6-48b9-989c-e25c83407677",
   "metadata": {},
   "outputs": [],
   "source": [
    "train_X = train_X.astype('int32')\n",
    "test_X = test_X.astype('int32')"
   ]
  },
  {
   "cell_type": "code",
   "execution_count": 8,
   "id": "32e55b8c-052c-48de-b050-d6aea5693003",
   "metadata": {},
   "outputs": [
    {
     "name": "stdout",
     "output_type": "stream",
     "text": [
      "x values: [0, 1]\n",
      "y values: [1, 0]\n"
     ]
    }
   ],
   "source": [
    "values = []\n",
    "for char in train_X:\n",
    "    for value in char:\n",
    "        if value not in values:\n",
    "            values.append(value)\n",
    "print('x values:', values)\n",
    "values = []\n",
    "for char in train_y:\n",
    "    for value in char:\n",
    "        if value not in values:\n",
    "            values.append(value)\n",
    "print('y values:', values)"
   ]
  },
  {
   "cell_type": "code",
   "execution_count": 9,
   "id": "ad360daa-1b37-4a9b-9dcf-98e22b3d99c8",
   "metadata": {},
   "outputs": [],
   "source": [
    "train_X = tf.constant(train_X)\n",
    "train_y = tf.constant(train_y)\n",
    "\n",
    "test_X = tf.constant(test_X)\n",
    "test_y = tf.constant(test_y)"
   ]
  },
  {
   "cell_type": "code",
   "execution_count": 10,
   "id": "072af765-d0e9-4a17-a7d6-24836627217f",
   "metadata": {},
   "outputs": [
    {
     "data": {
      "text/plain": [
       "<tf.Tensor: id=0, shape=(15750, 1024), dtype=int32, numpy=\n",
       "array([[0, 0, 0, ..., 0, 0, 0],\n",
       "       [0, 0, 0, ..., 0, 0, 0],\n",
       "       [0, 0, 0, ..., 0, 0, 0],\n",
       "       ...,\n",
       "       [0, 0, 0, ..., 0, 0, 0],\n",
       "       [0, 0, 0, ..., 0, 0, 0],\n",
       "       [0, 0, 0, ..., 0, 0, 0]], dtype=int32)>"
      ]
     },
     "execution_count": 10,
     "metadata": {},
     "output_type": "execute_result"
    }
   ],
   "source": [
    "train_X"
   ]
  },
  {
   "cell_type": "code",
   "execution_count": 11,
   "id": "d96f3453-600f-4108-8912-a5ab6c6924bd",
   "metadata": {},
   "outputs": [
    {
     "data": {
      "text/plain": [
       "<tf.Tensor: id=1, shape=(15750, 35), dtype=int64, numpy=\n",
       "array([[1, 0, 0, ..., 0, 0, 0],\n",
       "       [0, 1, 0, ..., 0, 0, 0],\n",
       "       [0, 0, 1, ..., 0, 0, 0],\n",
       "       ...,\n",
       "       [0, 0, 0, ..., 1, 0, 0],\n",
       "       [0, 0, 0, ..., 0, 1, 0],\n",
       "       [0, 0, 0, ..., 0, 0, 1]])>"
      ]
     },
     "execution_count": 11,
     "metadata": {},
     "output_type": "execute_result"
    }
   ],
   "source": [
    "train_y"
   ]
  },
  {
   "cell_type": "code",
   "execution_count": 12,
   "id": "b5d679de-2db3-4cec-b0f8-7ddf978462eb",
   "metadata": {},
   "outputs": [
    {
     "data": {
      "text/plain": [
       "<tf.Tensor: id=2, shape=(1750, 1024), dtype=int32, numpy=\n",
       "array([[0, 0, 0, ..., 0, 0, 0],\n",
       "       [0, 0, 0, ..., 0, 0, 0],\n",
       "       [0, 0, 0, ..., 0, 0, 0],\n",
       "       ...,\n",
       "       [0, 0, 0, ..., 0, 0, 0],\n",
       "       [0, 0, 0, ..., 0, 0, 0],\n",
       "       [0, 0, 0, ..., 0, 0, 0]], dtype=int32)>"
      ]
     },
     "execution_count": 12,
     "metadata": {},
     "output_type": "execute_result"
    }
   ],
   "source": [
    "test_X"
   ]
  },
  {
   "cell_type": "code",
   "execution_count": 13,
   "id": "68e74396-a52c-4010-8975-317f8b846ed8",
   "metadata": {},
   "outputs": [
    {
     "data": {
      "text/plain": [
       "<tf.Tensor: id=3, shape=(1750, 35), dtype=int64, numpy=\n",
       "array([[1, 0, 0, ..., 0, 0, 0],\n",
       "       [0, 1, 0, ..., 0, 0, 0],\n",
       "       [0, 0, 1, ..., 0, 0, 0],\n",
       "       ...,\n",
       "       [0, 0, 0, ..., 1, 0, 0],\n",
       "       [0, 0, 0, ..., 0, 1, 0],\n",
       "       [0, 0, 0, ..., 0, 0, 1]])>"
      ]
     },
     "execution_count": 13,
     "metadata": {},
     "output_type": "execute_result"
    }
   ],
   "source": [
    "test_y"
   ]
  },
  {
   "cell_type": "code",
   "execution_count": 14,
   "id": "a31d6f32-c173-419a-86db-d4a9043ad902",
   "metadata": {
    "tags": []
   },
   "outputs": [],
   "source": [
    "model = tf.keras.Sequential()\n",
    "model.add(tf.keras.layers.Dense(500, activation='relu', input_dim=1024))\n",
    "model.add(tf.keras.layers.Dense(100, activation='relu'))\n",
    "model.add(tf.keras.layers.Dense(50, activation='relu'))\n",
    "model.add(tf.keras.layers.Dense(35, activation='softmax'))\n",
    "\n",
    "model.compile(optimizer='adam', \n",
    "              loss='categorical_crossentropy', \n",
    "              metrics=['accuracy'])"
   ]
  },
  {
   "cell_type": "code",
   "execution_count": 15,
   "id": "87db350d-eb1c-41a4-95ca-b41a673f8809",
   "metadata": {
    "tags": []
   },
   "outputs": [
    {
     "name": "stdout",
     "output_type": "stream",
     "text": [
      "Train on 15750 samples\n",
      "Epoch 1/20\n",
      "15750/15750 [==============================] - 5s 330us/sample - loss: 1.3279 - accuracy: 0.6275\n",
      "Epoch 2/20\n",
      "15750/15750 [==============================] - 5s 294us/sample - loss: 0.5911 - accuracy: 0.8187\n",
      "Epoch 3/20\n",
      "15750/15750 [==============================] - 5s 335us/sample - loss: 0.3975 - accuracy: 0.8754\n",
      "Epoch 4/20\n",
      "15750/15750 [==============================] - 5s 321us/sample - loss: 0.2925 - accuracy: 0.9067\n",
      "Epoch 5/20\n",
      "15750/15750 [==============================] - 5s 319us/sample - loss: 0.2277 - accuracy: 0.9244\n",
      "Epoch 6/20\n",
      "15750/15750 [==============================] - 5s 338us/sample - loss: 0.1753 - accuracy: 0.9425\n",
      "Epoch 7/20\n",
      "15750/15750 [==============================] - 5s 323us/sample - loss: 0.1451 - accuracy: 0.9514\n",
      "Epoch 8/20\n",
      "15750/15750 [==============================] - 5s 316us/sample - loss: 0.1179 - accuracy: 0.9594\n",
      "Epoch 9/20\n",
      "15750/15750 [==============================] - 6s 355us/sample - loss: 0.1052 - accuracy: 0.9642\n",
      "Epoch 10/20\n",
      "15750/15750 [==============================] - 5s 339us/sample - loss: 0.0941 - accuracy: 0.9660\n",
      "Epoch 11/20\n",
      "15750/15750 [==============================] - 6s 356us/sample - loss: 0.0893 - accuracy: 0.9688\n",
      "Epoch 12/20\n",
      "15750/15750 [==============================] - 6s 350us/sample - loss: 0.0795 - accuracy: 0.9728\n",
      "Epoch 13/20\n",
      "15750/15750 [==============================] - 5s 340us/sample - loss: 0.0735 - accuracy: 0.9750\n",
      "Epoch 14/20\n",
      "15750/15750 [==============================] - 5s 326us/sample - loss: 0.0552 - accuracy: 0.9817\n",
      "Epoch 15/20\n",
      "15750/15750 [==============================] - 5s 341us/sample - loss: 0.0742 - accuracy: 0.9728\n",
      "Epoch 16/20\n",
      "15750/15750 [==============================] - 5s 335us/sample - loss: 0.0678 - accuracy: 0.9780\n",
      "Epoch 17/20\n",
      "15750/15750 [==============================] - 5s 331us/sample - loss: 0.0527 - accuracy: 0.9816\n",
      "Epoch 18/20\n",
      "15750/15750 [==============================] - 5s 337us/sample - loss: 0.0614 - accuracy: 0.9777\n",
      "Epoch 19/20\n",
      "15750/15750 [==============================] - 5s 323us/sample - loss: 0.0660 - accuracy: 0.9782\n",
      "Epoch 20/20\n",
      "15750/15750 [==============================] - 5s 315us/sample - loss: 0.0538 - accuracy: 0.9820\n"
     ]
    },
    {
     "data": {
      "text/plain": [
       "<tensorflow.python.keras.callbacks.History at 0x7fe188e43650>"
      ]
     },
     "execution_count": 15,
     "metadata": {},
     "output_type": "execute_result"
    }
   ],
   "source": [
    "model.fit(train_X, train_y, epochs=20)"
   ]
  },
  {
   "cell_type": "code",
   "execution_count": 20,
   "id": "04d67ef0-a4b5-4899-9d04-3e4933641d2f",
   "metadata": {
    "tags": []
   },
   "outputs": [
    {
     "name": "stdout",
     "output_type": "stream",
     "text": [
      "Accuracy on training data: 0.9846984148025513% \n",
      " Error on test data: 0.01530158519744873\n",
      "\n",
      "Accuracy on test data: 0.8285714387893677% \n",
      " Error on test data: 0.17142856121063232\n"
     ]
    }
   ],
   "source": [
    "pred_train= model.predict(train_X)\n",
    "scores = model.evaluate(train_X, train_y, verbose=0)\n",
    "print(f'Accuracy on training data: {scores[1]}% \\n Error on test data: {1 - scores[1]}')   \n",
    "print()\n",
    "pred_test= model.predict(test_X)\n",
    "scores2 = model.evaluate(test_X, test_y, verbose=0)\n",
    "print(f'Accuracy on test data: {scores2[1]}% \\n Error on test data: {1 - scores2[1]}')    "
   ]
  },
  {
   "cell_type": "code",
   "execution_count": 38,
   "id": "21ed78a2-7d09-4104-86f5-bf97b00bb7de",
   "metadata": {
    "tags": []
   },
   "outputs": [],
   "source": [
    "def get_wrong_predictions(preds):\n",
    "    in_test_y = char_dict['char'][split:]\n",
    "    chars = char_dict['char'][:35]\n",
    "    print(\"{Actual letter} - {Predicted letter}\")\n",
    "    for i, prediction in enumerate(preds):\n",
    "        prediction = list(prediction)\n",
    "        actual_letter = in_test_y[i]\n",
    "        predicted_letter = chars[prediction.index(max(prediction))]\n",
    "        if predicted_letter != actual_letter:\n",
    "            print(actual_letter, \"-\", predicted_letter)"
   ]
  },
  {
   "cell_type": "code",
   "execution_count": 39,
   "id": "f1b51325-41b4-4805-ba2f-ee4cff7a545c",
   "metadata": {
    "collapsed": true,
    "jupyter": {
     "outputs_hidden": true
    },
    "tags": []
   },
   "outputs": [
    {
     "name": "stdout",
     "output_type": "stream",
     "text": [
      "{Actual letter} - {Predicted letter}\n",
      "G - Q\n",
      "A - H\n",
      "B - J\n",
      "K - X\n",
      "9 - Q\n",
      "N - A\n",
      "G - S\n",
      "6 - B\n",
      "S - J\n",
      "V - Y\n",
      "9 - Q\n",
      "G - 9\n",
      "S - J\n",
      "4 - Y\n",
      "E - 8\n",
      "K - X\n",
      "W - U\n",
      "R - N\n",
      "U - V\n",
      "9 - Q\n",
      "S - J\n",
      "H - V\n",
      "D - Q\n",
      "V - W\n",
      "W - U\n",
      "G - C\n",
      "J - 2\n",
      "9 - Q\n",
      "I - J\n",
      "S - J\n",
      "M - Q\n",
      "U - V\n",
      "9 - Q\n",
      "I - 1\n",
      "G - 7\n",
      "F - T\n",
      "C - U\n",
      "4 - H\n",
      "P - J\n",
      "R - A\n",
      "9 - Q\n",
      "I - 1\n",
      "G - C\n",
      "2 - G\n",
      "U - V\n",
      "I - 1\n",
      "N - U\n",
      "Z - T\n",
      "S - J\n",
      "F - G\n",
      "H - B\n",
      "4 - U\n",
      "B - G\n",
      "K - X\n",
      "2 - Z\n",
      "R - D\n",
      "D - Q\n",
      "X - Y\n",
      "2 - S\n",
      "Y - X\n",
      "T - F\n",
      "A - G\n",
      "4 - H\n",
      "E - 8\n",
      "7 - T\n",
      "I - 1\n",
      "T - 8\n",
      "S - J\n",
      "A - H\n",
      "C - U\n",
      "D - N\n",
      "0 - C\n",
      "I - J\n",
      "N - H\n",
      "G - P\n",
      "A - H\n",
      "Q - A\n",
      "P - R\n",
      "N - W\n",
      "6 - B\n",
      "Q - 9\n",
      "P - Q\n",
      "9 - Q\n",
      "8 - R\n",
      "S - V\n",
      "A - H\n",
      "C - U\n",
      "D - T\n",
      "Y - V\n",
      "1 - I\n",
      "H - U\n",
      "Q - Y\n",
      "B - H\n",
      "K - B\n",
      "2 - Q\n",
      "Y - X\n",
      "P - A\n",
      "9 - 7\n",
      "G - S\n",
      "S - 5\n",
      "A - H\n",
      "F - 6\n",
      "4 - Y\n",
      "2 - R\n",
      "Y - X\n",
      "U - V\n",
      "I - J\n",
      "S - J\n",
      "4 - U\n",
      "K - Z\n",
      "2 - D\n",
      "5 - C\n",
      "P - Q\n",
      "9 - Q\n",
      "G - J\n",
      "P - D\n",
      "W - U\n",
      "9 - Q\n",
      "N - H\n",
      "G - Q\n",
      "4 - U\n",
      "E - 0\n",
      "B - D\n",
      "L - H\n",
      "2 - D\n",
      "P - 9\n",
      "I - L\n",
      "2 - D\n",
      "Y - R\n",
      "D - N\n",
      "Q - E\n",
      "2 - G\n",
      "9 - Q\n",
      "0 - A\n",
      "8 - Q\n",
      "D - U\n",
      "P - D\n",
      "9 - Q\n",
      "A - R\n",
      "4 - U\n",
      "0 - C\n",
      "8 - B\n",
      "T - Y\n",
      "F - S\n",
      "B - R\n",
      "2 - C\n",
      "I - 1\n",
      "G - 6\n",
      "Z - X\n",
      "T - H\n",
      "Q - G\n",
      "2 - S\n",
      "W - N\n",
      "I - 1\n",
      "Q - D\n",
      "K - R\n",
      "R - T\n",
      "G - C\n",
      "1 - I\n",
      "F - 6\n",
      "P - D\n",
      "I - 1\n",
      "N - H\n",
      "8 - G\n",
      "H - L\n",
      "J - 3\n",
      "K - R\n",
      "Y - 4\n",
      "P - D\n",
      "R - P\n",
      "0 - U\n",
      "N - H\n",
      "D - Y\n",
      "3 - J\n",
      "E - F\n",
      "B - 6\n",
      "2 - A\n",
      "9 - Q\n",
      "0 - C\n",
      "I - 1\n",
      "Z - C\n",
      "8 - Q\n",
      "F - A\n",
      "R - T\n",
      "G - 6\n",
      "Z - G\n",
      "1 - I\n",
      "8 - 5\n",
      "Q - Y\n",
      "L - I\n",
      "R - A\n",
      "N - H\n",
      "G - C\n",
      "6 - B\n",
      "8 - P\n",
      "X - J\n",
      "3 - 5\n",
      "7 - 9\n",
      "I - 1\n",
      "Z - 2\n",
      "C - L\n",
      "Q - 9\n",
      "3 - 8\n",
      "5 - J\n",
      "0 - N\n",
      "A - B\n",
      "C - L\n",
      "2 - Z\n",
      "W - V\n",
      "U - L\n",
      "0 - C\n",
      "6 - B\n",
      "Q - 9\n",
      "B - 8\n",
      "K - R\n",
      "5 - S\n",
      "7 - 9\n",
      "C - E\n",
      "I - 1\n",
      "1 - I\n",
      "T - 8\n",
      "F - R\n",
      "H - M\n",
      "M - N\n",
      "D - Q\n",
      "Q - 8\n",
      "K - 8\n",
      "Y - J\n",
      "R - A\n",
      "9 - Q\n",
      "0 - A\n",
      "Z - L\n",
      "H - U\n",
      "B - 8\n",
      "Y - D\n",
      "6 - U\n",
      "F - P\n",
      "V - U\n",
      "2 - A\n",
      "Y - J\n",
      "P - 8\n",
      "R - A\n",
      "9 - 5\n",
      "7 - G\n",
      "I - 1\n",
      "H - A\n",
      "C - 5\n",
      "V - D\n",
      "P - Q\n",
      "0 - C\n",
      "I - 1\n",
      "G - U\n",
      "S - C\n",
      "A - Z\n",
      "V - 4\n",
      "U - V\n",
      "6 - G\n",
      "1 - I\n",
      "C - L\n",
      "L - B\n",
      "2 - J\n",
      "R - P\n",
      "0 - C\n",
      "G - Q\n",
      "1 - I\n",
      "T - J\n",
      "S - C\n",
      "D - J\n",
      "4 - 6\n",
      "B - 8\n",
      "K - X\n",
      "9 - Q\n",
      "S - E\n",
      "2 - Z\n",
      "0 - C\n",
      "1 - I\n",
      "V - J\n",
      "3 - 8\n",
      "B - 6\n",
      "V - W\n",
      "4 - Y\n",
      "R - T\n",
      "G - Q\n",
      "F - P\n",
      "Q - G\n",
      "3 - J\n",
      "U - V\n",
      "A - N\n",
      "3 - B\n",
      "2 - Z\n",
      "5 - S\n",
      "9 - Q\n",
      "N - W\n",
      "1 - I\n",
      "S - E\n",
      "F - 5\n",
      "Q - G\n",
      "4 - U\n",
      "P - 9\n",
      "W - P\n"
     ]
    }
   ],
   "source": [
    "get_wrong_predictions(pred_test)"
   ]
  },
  {
   "cell_type": "code",
   "execution_count": 42,
   "id": "4b709718-1488-41d1-896f-9a912c735021",
   "metadata": {
    "tags": []
   },
   "outputs": [],
   "source": [
    "def predict_single_img(src):\n",
    "    img = load_img(src)\n",
    "    chars = char_dict['char'][:35]\n",
    "    prediction = model.predict(np.array([img,])/255)\n",
    "    prediction = list(prediction[0])\n",
    "    return chars[prediction.index(max(prediction))]"
   ]
  },
  {
   "cell_type": "code",
   "execution_count": 43,
   "id": "dda67ae7-6aca-4951-893b-1215ca05170f",
   "metadata": {},
   "outputs": [
    {
     "data": {
      "text/plain": [
       "'H'"
      ]
     },
     "execution_count": 43,
     "metadata": {},
     "output_type": "execute_result"
    }
   ],
   "source": [
    "src = 'dataset/handwritten_letters/H/_1_11.jpg'\n",
    "predict_single_img(src)"
   ]
  }
 ],
 "metadata": {
  "kernelspec": {
   "display_name": "Python 3",
   "language": "python",
   "name": "python3"
  },
  "language_info": {
   "codemirror_mode": {
    "name": "ipython",
    "version": 3
   },
   "file_extension": ".py",
   "mimetype": "text/x-python",
   "name": "python",
   "nbconvert_exporter": "python",
   "pygments_lexer": "ipython3",
   "version": "3.7.10"
  }
 },
 "nbformat": 4,
 "nbformat_minor": 5
}