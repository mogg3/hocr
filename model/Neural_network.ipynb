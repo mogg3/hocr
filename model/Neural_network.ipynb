{
 "cells": [
  {
   "cell_type": "code",
   "execution_count": 1,
   "metadata": {
    "tags": []
   },
   "outputs": [],
   "source": [
    "import tensorflow as tf\n",
    "import numpy as np\n",
    "import matplotlib.pyplot as plt\n",
    "import cv2\n",
    "import os\n",
    "import re\n",
    "from tensorflow import keras\n",
    "import time"
   ]
  },
  {
   "cell_type": "code",
   "execution_count": 2,
   "metadata": {},
   "outputs": [],
   "source": [
    "def sorted_alphanumeric(data):\n",
    "    convert = lambda text: int(text) if text.isdigit() else text.lower()\n",
    "    alphanum_key = lambda key: [ convert(c) for c in re.split('([0-9]+)', key) ]\n",
    "    return sorted(data, key=alphanum_key)"
   ]
  },
  {
   "cell_type": "code",
   "execution_count": 3,
   "metadata": {},
   "outputs": [
    {
     "name": "stdout",
     "output_type": "stream",
     "text": [
      "7.841053009033203 seconds\n"
     ]
    }
   ],
   "source": [
    "start = time.time()\n",
    "\n",
    "char_dict = {\"char\": [], \"matrix\": []}\n",
    "char_set = dict()\n",
    "src = r\"dataset/handwritten_letters\"\n",
    "for i in range(500):\n",
    "    for folder in os.listdir(src):\n",
    "        char_dict[\"char\"].append(folder)\n",
    "        if folder not in char_set:\n",
    "            char_set[folder] = sorted_alphanumeric(os.listdir(src + '/' + folder))\n",
    "        img = cv2.imread(f\"{src}/{folder}/{char_set[folder][i]}\")\n",
    "        img = cv2.cvtColor(img, cv2.COLOR_BGR2GRAY)\n",
    "        if not img.shape == (32, 32):\n",
    "            img = cv2.resize(img, (32, 32))\n",
    "        _, img = cv2.threshold(img, 127, 255, cv2.THRESH_BINARY_INV)\n",
    "        img = cv2.bitwise_not(img)\n",
    "        img = img.flatten()\n",
    "        char_dict[\"matrix\"].append(img)\n",
    "\n",
    "\n",
    "stop = time.time()\n",
    "print(stop-start, 'seconds')"
   ]
  },
  {
   "cell_type": "code",
   "execution_count": 4,
   "metadata": {},
   "outputs": [
    {
     "name": "stderr",
     "output_type": "stream",
     "text": [
      "/Users/marcuseriksson/opt/anaconda3/envs/tf/lib/python3.7/site-packages/category_encoders/utils.py:21: FutureWarning: is_categorical is deprecated and will be removed in a future version.  Use is_categorical_dtype instead\n",
      "  elif pd.api.types.is_categorical(cols):\n"
     ]
    }
   ],
   "source": [
    "import category_encoders as ce\n",
    "le =  ce.OneHotEncoder(return_df=False, handle_unknown=\"ignore\")\n",
    "y = np.array(char_dict['char'])\n",
    "y = le.fit_transform(y)\n",
    "\n",
    "X = np.array(char_dict[\"matrix\"])"
   ]
  },
  {
   "cell_type": "code",
   "execution_count": 19,
   "metadata": {},
   "outputs": [],
   "source": [
    "split = int(round(0.9 * len(X)))\n",
    "\n",
    "train_X = X[:split]/255\n",
    "train_y = y[:split]\n",
    "test_X = X[split:]/255\n",
    "test_y = y[split:]"
   ]
  },
  {
   "cell_type": "code",
   "execution_count": 20,
   "metadata": {},
   "outputs": [],
   "source": [
    "train_X = train_X.astype('int32')\n",
    "test_X = test_X.astype('int32')"
   ]
  },
  {
   "cell_type": "code",
   "execution_count": 21,
   "metadata": {},
   "outputs": [
    {
     "name": "stdout",
     "output_type": "stream",
     "text": [
      "x values: [0, 1]\n",
      "y values: [1, 0]\n"
     ]
    }
   ],
   "source": [
    "values = []\n",
    "for char in train_X:\n",
    "    for value in char:\n",
    "        if value not in values:\n",
    "            values.append(value)\n",
    "print('x values:', values)\n",
    "values = []\n",
    "for char in train_y:\n",
    "    for value in char:\n",
    "        if value not in values:\n",
    "            values.append(value)\n",
    "print('y values:', values)"
   ]
  },
  {
   "cell_type": "code",
   "execution_count": 22,
   "metadata": {},
   "outputs": [],
   "source": [
    "train_X = tf.constant(train_X)\n",
    "train_y = tf.constant(train_y)\n",
    "\n",
    "test_X = tf.constant(test_X)\n",
    "test_y = tf.constant(test_y)"
   ]
  },
  {
   "cell_type": "code",
   "execution_count": 23,
   "metadata": {},
   "outputs": [
    {
     "data": {
      "text/plain": [
       "<tf.Tensor: id=4114, shape=(15750, 1024), dtype=int32, numpy=\n",
       "array([[0, 0, 0, ..., 0, 0, 0],\n",
       "       [0, 0, 0, ..., 0, 0, 0],\n",
       "       [0, 0, 0, ..., 0, 0, 0],\n",
       "       ...,\n",
       "       [0, 0, 0, ..., 0, 0, 0],\n",
       "       [0, 0, 0, ..., 0, 0, 0],\n",
       "       [0, 0, 0, ..., 0, 0, 0]], dtype=int32)>"
      ]
     },
     "execution_count": 23,
     "metadata": {},
     "output_type": "execute_result"
    }
   ],
   "source": [
    "train_X"
   ]
  },
  {
   "cell_type": "code",
   "execution_count": 24,
   "metadata": {},
   "outputs": [
    {
     "data": {
      "text/plain": [
       "<tf.Tensor: id=4115, shape=(15750, 35), dtype=int64, numpy=\n",
       "array([[1, 0, 0, ..., 0, 0, 0],\n",
       "       [0, 1, 0, ..., 0, 0, 0],\n",
       "       [0, 0, 1, ..., 0, 0, 0],\n",
       "       ...,\n",
       "       [0, 0, 0, ..., 1, 0, 0],\n",
       "       [0, 0, 0, ..., 0, 1, 0],\n",
       "       [0, 0, 0, ..., 0, 0, 1]])>"
      ]
     },
     "execution_count": 24,
     "metadata": {},
     "output_type": "execute_result"
    }
   ],
   "source": [
    "train_y"
   ]
  },
  {
   "cell_type": "code",
   "execution_count": 25,
   "metadata": {},
   "outputs": [
    {
     "data": {
      "text/plain": [
       "<tf.Tensor: id=4116, shape=(1750, 1024), dtype=int32, numpy=\n",
       "array([[0, 0, 0, ..., 0, 0, 0],\n",
       "       [0, 0, 0, ..., 0, 0, 0],\n",
       "       [0, 0, 0, ..., 0, 0, 0],\n",
       "       ...,\n",
       "       [0, 0, 0, ..., 0, 0, 0],\n",
       "       [0, 0, 0, ..., 0, 0, 0],\n",
       "       [0, 0, 0, ..., 0, 0, 0]], dtype=int32)>"
      ]
     },
     "execution_count": 25,
     "metadata": {},
     "output_type": "execute_result"
    }
   ],
   "source": [
    "test_X"
   ]
  },
  {
   "cell_type": "code",
   "execution_count": 26,
   "metadata": {},
   "outputs": [
    {
     "data": {
      "text/plain": [
       "<tf.Tensor: id=4117, shape=(1750, 35), dtype=int64, numpy=\n",
       "array([[1, 0, 0, ..., 0, 0, 0],\n",
       "       [0, 1, 0, ..., 0, 0, 0],\n",
       "       [0, 0, 1, ..., 0, 0, 0],\n",
       "       ...,\n",
       "       [0, 0, 0, ..., 1, 0, 0],\n",
       "       [0, 0, 0, ..., 0, 1, 0],\n",
       "       [0, 0, 0, ..., 0, 0, 1]])>"
      ]
     },
     "execution_count": 26,
     "metadata": {},
     "output_type": "execute_result"
    }
   ],
   "source": [
    "test_y"
   ]
  },
  {
   "cell_type": "code",
   "execution_count": 27,
   "metadata": {
    "tags": []
   },
   "outputs": [],
   "source": [
    "model = tf.keras.Sequential()\n",
    "model.add(tf.keras.layers.Dense(500, activation='relu', input_dim=1024))\n",
    "model.add(tf.keras.layers.Dense(100, activation='relu'))\n",
    "model.add(tf.keras.layers.Dense(50, activation='relu'))\n",
    "model.add(tf.keras.layers.Dense(35, activation='softmax'))\n",
    "\n",
    "model.compile(optimizer='adam', \n",
    "              loss='categorical_crossentropy', \n",
    "              metrics=['accuracy'])"
   ]
  },
  {
   "cell_type": "code",
   "execution_count": 28,
   "metadata": {},
   "outputs": [
    {
     "name": "stdout",
     "output_type": "stream",
     "text": [
      "Train on 15750 samples\n",
      "Epoch 1/20\n",
      "15750/15750 [==============================] - 5s 314us/sample - loss: 1.3842 - accuracy: 0.6159\n",
      "Epoch 2/20\n",
      "15750/15750 [==============================] - 4s 285us/sample - loss: 0.5998 - accuracy: 0.8194\n",
      "Epoch 3/20\n",
      "15750/15750 [==============================] - 4s 284us/sample - loss: 0.4041 - accuracy: 0.8728\n",
      "Epoch 4/20\n",
      "15750/15750 [==============================] - 5s 286us/sample - loss: 0.2981 - accuracy: 0.9025\n",
      "Epoch 5/20\n",
      "15750/15750 [==============================] - 4s 284us/sample - loss: 0.2197 - accuracy: 0.9279\n",
      "Epoch 6/20\n",
      "15750/15750 [==============================] - 4s 286us/sample - loss: 0.1659 - accuracy: 0.9446\n",
      "Epoch 7/20\n",
      "15750/15750 [==============================] - 4s 285us/sample - loss: 0.1352 - accuracy: 0.9549\n",
      "Epoch 8/20\n",
      "15750/15750 [==============================] - 5s 286us/sample - loss: 0.1202 - accuracy: 0.9571\n",
      "Epoch 9/20\n",
      "15750/15750 [==============================] - 4s 285us/sample - loss: 0.1033 - accuracy: 0.9648\n",
      "Epoch 10/20\n",
      "15750/15750 [==============================] - 5s 286us/sample - loss: 0.0939 - accuracy: 0.9682\n",
      "Epoch 11/20\n",
      "15750/15750 [==============================] - 5s 286us/sample - loss: 0.0809 - accuracy: 0.9727\n",
      "Epoch 12/20\n",
      "15750/15750 [==============================] - 5s 287us/sample - loss: 0.0778 - accuracy: 0.9730\n",
      "Epoch 13/20\n",
      "15750/15750 [==============================] - 5s 287us/sample - loss: 0.0708 - accuracy: 0.9763\n",
      "Epoch 14/20\n",
      "15750/15750 [==============================] - 5s 290us/sample - loss: 0.0885 - accuracy: 0.9677\n",
      "Epoch 15/20\n",
      "15750/15750 [==============================] - 5s 287us/sample - loss: 0.0471 - accuracy: 0.9829\n",
      "Epoch 16/20\n",
      "15750/15750 [==============================] - 5s 287us/sample - loss: 0.0656 - accuracy: 0.9773\n",
      "Epoch 17/20\n",
      "15750/15750 [==============================] - 6s 359us/sample - loss: 0.0723 - accuracy: 0.9751\n",
      "Epoch 18/20\n",
      "15750/15750 [==============================] - 5s 286us/sample - loss: 0.0642 - accuracy: 0.9782\n",
      "Epoch 19/20\n",
      "15750/15750 [==============================] - 5s 287us/sample - loss: 0.0498 - accuracy: 0.9831\n",
      "Epoch 20/20\n",
      "15750/15750 [==============================] - 5s 287us/sample - loss: 0.0490 - accuracy: 0.9835\n"
     ]
    },
    {
     "data": {
      "text/plain": [
       "<tensorflow.python.keras.callbacks.History at 0x7fca693854d0>"
      ]
     },
     "execution_count": 28,
     "metadata": {},
     "output_type": "execute_result"
    }
   ],
   "source": [
    "model.fit(train_X, train_y, epochs=20)"
   ]
  },
  {
   "cell_type": "code",
   "execution_count": 58,
   "metadata": {
    "tags": []
   },
   "outputs": [
    {
     "name": "stdout",
     "output_type": "stream",
     "text": [
      "Accuracy on training data: 0.9892698526382446% \n",
      " Error on test data: 0.010730147361755371\n",
      "\n",
      "Accuracy on test data: 0.8360000252723694% \n",
      " Error on test data: 0.16399997472763062\n"
     ]
    }
   ],
   "source": [
    "pred_train= model.predict(train_X)\n",
    "scores = model.evaluate(train_X, train_y, verbose=0)\n",
    "print(f'Accuracy on training data: {scores[1]}% \\n Error on test data: {1 - scores[1]}')   \n",
    "print()\n",
    "pred_test= model.predict(test_X)\n",
    "scores2 = model.evaluate(test_X, test_y, verbose=0)\n",
    "print(f'Accuracy on test data: {scores2[1]}% \\n Error on test data: {1 - scores2[1]}')    "
   ]
  }
 ],
 "metadata": {
  "kernelspec": {
   "display_name": "Python 3",
   "language": "python",
   "name": "python3"
  },
  "language_info": {
   "codemirror_mode": {
    "name": "ipython",
    "version": 3
   },
   "file_extension": ".py",
   "mimetype": "text/x-python",
   "name": "python",
   "nbconvert_exporter": "python",
   "pygments_lexer": "ipython3",
   "version": "3.8.5"
  }
 },
 "nbformat": 4,
 "nbformat_minor": 5
}
