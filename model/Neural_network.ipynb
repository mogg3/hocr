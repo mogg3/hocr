{
 "cells": [
  {
   "cell_type": "code",
   "execution_count": 157,
   "id": "9d11b9fa-2c43-43f2-843d-fdff7bb0683f",
   "metadata": {
    "tags": []
   },
   "outputs": [],
   "source": [
    "import tensorflow as tf\n",
    "import numpy as np\n",
    "import matplotlib.pyplot as plt\n",
    "import cv2\n",
    "import os\n",
    "import re\n",
    "from tensorflow import keras\n",
    "import time"
   ]
  },
  {
   "cell_type": "code",
   "execution_count": 158,
   "id": "c77b7255-7ff6-410d-95cd-02b9a8ecc79a",
   "metadata": {},
   "outputs": [],
   "source": [
    "def sorted_alphanumeric(data):\n",
    "    convert = lambda text: int(text) if text.isdigit() else text.lower()\n",
    "    alphanum_key = lambda key: [ convert(c) for c in re.split('([0-9]+)', key) ]\n",
    "    return sorted(data, key=alphanum_key)"
   ]
  },
  {
   "cell_type": "code",
   "execution_count": 159,
   "id": "3cc92e25-1c60-42db-a68b-f913b0386e21",
   "metadata": {},
   "outputs": [],
   "source": [
    "def load_img(src):\n",
    "    img = cv2.imread(src)\n",
    "    img = cv2.cvtColor(img, cv2.COLOR_BGR2GRAY)\n",
    "    if not img.shape == (32, 32):\n",
    "        img = cv2.resize(img, (32, 32))\n",
    "    _, img = cv2.threshold(img, 127, 255, cv2.THRESH_BINARY_INV)\n",
    "    img = cv2.bitwise_not(img)\n",
    "    img = img.flatten()\n",
    "    img = img.astype('int32')\n",
    "    return img"
   ]
  },
  {
   "cell_type": "code",
   "execution_count": 160,
   "id": "19b8d7a2-f0a2-4b0a-80fd-b30600a5b2ff",
   "metadata": {},
   "outputs": [
    {
     "name": "stdout",
     "output_type": "stream",
     "text": [
      "8.491028070449829 seconds\n"
     ]
    }
   ],
   "source": [
    "start = time.time()\n",
    "\n",
    "char_dict = {\"char\": [], \"matrix\": []}\n",
    "char_set = dict()\n",
    "src = r\"dataset/handwritten_letters\"\n",
    "for i in range(500):\n",
    "    for folder in os.listdir(src):\n",
    "        char_dict[\"char\"].append(folder)\n",
    "        if folder not in char_set:\n",
    "            char_set[folder] = sorted_alphanumeric(os.listdir(src + '/' + folder))\n",
    "        img = load_img(f\"{src}/{folder}/{char_set[folder][i]}\")\n",
    "        char_dict[\"matrix\"].append(img)\n",
    "\n",
    "\n",
    "stop = time.time()\n",
    "print(stop-start, 'seconds')"
   ]
  },
  {
   "cell_type": "code",
   "execution_count": 5,
   "id": "9c0433d5-3cb5-4492-a8b6-d89a9211f50c",
   "metadata": {},
   "outputs": [
    {
     "name": "stderr",
     "output_type": "stream",
     "text": [
      "/Users/marcuseriksson/opt/anaconda3/envs/tf/lib/python3.7/site-packages/category_encoders/utils.py:21: FutureWarning: is_categorical is deprecated and will be removed in a future version.  Use is_categorical_dtype instead\n",
      "  elif pd.api.types.is_categorical(cols):\n"
     ]
    }
   ],
   "source": [
    "import category_encoders as ce\n",
    "le =  ce.OneHotEncoder(return_df=False, handle_unknown=\"ignore\")\n",
    "y = np.array(char_dict['char'])\n",
    "\n",
    "y = le.fit_transform(y)\n",
    "X = np.array(char_dict[\"matrix\"])"
   ]
  },
  {
   "cell_type": "code",
   "execution_count": 6,
   "id": "27e229aa-66b0-44e7-bc50-8e5adccece14",
   "metadata": {},
   "outputs": [],
   "source": [
    "split = int(round(0.9 * len(X)))\n",
    "\n",
    "train_X = X[:split]/255\n",
    "train_y = y[:split]\n",
    "test_X = X[split:]/255\n",
    "test_y = y[split:]"
   ]
  },
  {
   "cell_type": "code",
   "execution_count": 7,
   "id": "b0d05264-2ac6-48b9-989c-e25c83407677",
   "metadata": {},
   "outputs": [],
   "source": [
    "train_X = train_X.astype('int32')\n",
    "test_X = test_X.astype('int32')"
   ]
  },
  {
   "cell_type": "code",
   "execution_count": 8,
   "id": "32e55b8c-052c-48de-b050-d6aea5693003",
   "metadata": {},
   "outputs": [
    {
     "name": "stdout",
     "output_type": "stream",
     "text": [
      "x values: [0, 1]\n",
      "y values: [1, 0]\n"
     ]
    }
   ],
   "source": [
    "values = []\n",
    "for char in train_X:\n",
    "    for value in char:\n",
    "        if value not in values:\n",
    "            values.append(value)\n",
    "print('x values:', values)\n",
    "values = []\n",
    "for char in train_y:\n",
    "    for value in char:\n",
    "        if value not in values:\n",
    "            values.append(value)\n",
    "print('y values:', values)"
   ]
  },
  {
   "cell_type": "code",
   "execution_count": 9,
   "id": "ad360daa-1b37-4a9b-9dcf-98e22b3d99c8",
   "metadata": {},
   "outputs": [],
   "source": [
    "train_X = tf.constant(train_X)\n",
    "train_y = tf.constant(train_y)\n",
    "\n",
    "test_X = tf.constant(test_X)\n",
    "test_y = tf.constant(test_y)"
   ]
  },
  {
   "cell_type": "code",
   "execution_count": 10,
   "id": "072af765-d0e9-4a17-a7d6-24836627217f",
   "metadata": {},
   "outputs": [
    {
     "data": {
      "text/plain": [
       "<tf.Tensor: id=0, shape=(15750, 1024), dtype=int32, numpy=\n",
       "array([[0, 0, 0, ..., 0, 0, 0],\n",
       "       [0, 0, 0, ..., 0, 0, 0],\n",
       "       [0, 0, 0, ..., 0, 0, 0],\n",
       "       ...,\n",
       "       [0, 0, 0, ..., 0, 0, 0],\n",
       "       [0, 0, 0, ..., 0, 0, 0],\n",
       "       [0, 0, 0, ..., 0, 0, 0]], dtype=int32)>"
      ]
     },
     "execution_count": 10,
     "metadata": {},
     "output_type": "execute_result"
    }
   ],
   "source": [
    "train_X"
   ]
  },
  {
   "cell_type": "code",
   "execution_count": 11,
   "id": "d96f3453-600f-4108-8912-a5ab6c6924bd",
   "metadata": {},
   "outputs": [
    {
     "data": {
      "text/plain": [
       "<tf.Tensor: id=1, shape=(15750, 35), dtype=int64, numpy=\n",
       "array([[1, 0, 0, ..., 0, 0, 0],\n",
       "       [0, 1, 0, ..., 0, 0, 0],\n",
       "       [0, 0, 1, ..., 0, 0, 0],\n",
       "       ...,\n",
       "       [0, 0, 0, ..., 1, 0, 0],\n",
       "       [0, 0, 0, ..., 0, 1, 0],\n",
       "       [0, 0, 0, ..., 0, 0, 1]])>"
      ]
     },
     "execution_count": 11,
     "metadata": {},
     "output_type": "execute_result"
    }
   ],
   "source": [
    "train_y"
   ]
  },
  {
   "cell_type": "code",
   "execution_count": 12,
   "id": "b5d679de-2db3-4cec-b0f8-7ddf978462eb",
   "metadata": {},
   "outputs": [
    {
     "data": {
      "text/plain": [
       "<tf.Tensor: id=2, shape=(1750, 1024), dtype=int32, numpy=\n",
       "array([[0, 0, 0, ..., 0, 0, 0],\n",
       "       [0, 0, 0, ..., 0, 0, 0],\n",
       "       [0, 0, 0, ..., 0, 0, 0],\n",
       "       ...,\n",
       "       [0, 0, 0, ..., 0, 0, 0],\n",
       "       [0, 0, 0, ..., 0, 0, 0],\n",
       "       [0, 0, 0, ..., 0, 0, 0]], dtype=int32)>"
      ]
     },
     "execution_count": 12,
     "metadata": {},
     "output_type": "execute_result"
    }
   ],
   "source": [
    "test_X"
   ]
  },
  {
   "cell_type": "code",
   "execution_count": 13,
   "id": "68e74396-a52c-4010-8975-317f8b846ed8",
   "metadata": {},
   "outputs": [
    {
     "data": {
      "text/plain": [
       "<tf.Tensor: id=3, shape=(1750, 35), dtype=int64, numpy=\n",
       "array([[1, 0, 0, ..., 0, 0, 0],\n",
       "       [0, 1, 0, ..., 0, 0, 0],\n",
       "       [0, 0, 1, ..., 0, 0, 0],\n",
       "       ...,\n",
       "       [0, 0, 0, ..., 1, 0, 0],\n",
       "       [0, 0, 0, ..., 0, 1, 0],\n",
       "       [0, 0, 0, ..., 0, 0, 1]])>"
      ]
     },
     "execution_count": 13,
     "metadata": {},
     "output_type": "execute_result"
    }
   ],
   "source": [
    "test_y"
   ]
  },
  {
   "cell_type": "code",
   "execution_count": 14,
   "id": "a31d6f32-c173-419a-86db-d4a9043ad902",
   "metadata": {
    "tags": []
   },
   "outputs": [],
   "source": [
    "model = tf.keras.Sequential()\n",
    "model.add(tf.keras.layers.Dense(500, activation='relu', input_dim=1024))\n",
    "model.add(tf.keras.layers.Dense(100, activation='relu'))\n",
    "model.add(tf.keras.layers.Dense(50, activation='relu'))\n",
    "model.add(tf.keras.layers.Dense(35, activation='softmax'))\n",
    "\n",
    "model.compile(optimizer='adam', \n",
    "              loss='categorical_crossentropy', \n",
    "              metrics=['accuracy'])"
   ]
  },
  {
   "cell_type": "code",
   "execution_count": 15,
   "id": "87db350d-eb1c-41a4-95ca-b41a673f8809",
   "metadata": {
    "collapsed": true,
    "jupyter": {
     "outputs_hidden": true
    },
    "tags": []
   },
   "outputs": [
    {
     "name": "stdout",
     "output_type": "stream",
     "text": [
      "Train on 15750 samples\n",
      "Epoch 1/20\n",
      "15750/15750 [==============================] - 5s 322us/sample - loss: 1.3185 - accuracy: 0.6338\n",
      "Epoch 2/20\n",
      "15750/15750 [==============================] - 4s 284us/sample - loss: 0.5793 - accuracy: 0.8259\n",
      "Epoch 3/20\n",
      "15750/15750 [==============================] - 4s 281us/sample - loss: 0.3884 - accuracy: 0.8766\n",
      "Epoch 4/20\n",
      "15750/15750 [==============================] - 4s 285us/sample - loss: 0.2887 - accuracy: 0.9054\n",
      "Epoch 5/20\n",
      "15750/15750 [==============================] - 5s 287us/sample - loss: 0.2076 - accuracy: 0.9289\n",
      "Epoch 6/20\n",
      "15750/15750 [==============================] - 5s 292us/sample - loss: 0.1626 - accuracy: 0.9451\n",
      "Epoch 7/20\n",
      "15750/15750 [==============================] - 4s 284us/sample - loss: 0.1372 - accuracy: 0.9535\n",
      "Epoch 8/20\n",
      "15750/15750 [==============================] - 5s 291us/sample - loss: 0.1182 - accuracy: 0.9600\n",
      "Epoch 9/20\n",
      "15750/15750 [==============================] - 5s 288us/sample - loss: 0.0954 - accuracy: 0.9667\n",
      "Epoch 10/20\n",
      "15750/15750 [==============================] - 4s 283us/sample - loss: 0.1057 - accuracy: 0.9613\n",
      "Epoch 11/20\n",
      "15750/15750 [==============================] - 5s 294us/sample - loss: 0.0804 - accuracy: 0.9719\n",
      "Epoch 12/20\n",
      "15750/15750 [==============================] - 5s 294us/sample - loss: 0.0636 - accuracy: 0.9785\n",
      "Epoch 13/20\n",
      "15750/15750 [==============================] - 5s 293us/sample - loss: 0.0858 - accuracy: 0.9697\n",
      "Epoch 14/20\n",
      "15750/15750 [==============================] - 5s 295us/sample - loss: 0.0759 - accuracy: 0.9748\n",
      "Epoch 15/20\n",
      "15750/15750 [==============================] - 5s 298us/sample - loss: 0.0611 - accuracy: 0.9787\n",
      "Epoch 16/20\n",
      "15750/15750 [==============================] - 5s 292us/sample - loss: 0.0575 - accuracy: 0.9811\n",
      "Epoch 17/20\n",
      "15750/15750 [==============================] - 5s 298us/sample - loss: 0.0625 - accuracy: 0.9789\n",
      "Epoch 18/20\n",
      "15750/15750 [==============================] - 5s 297us/sample - loss: 0.0467 - accuracy: 0.9832\n",
      "Epoch 19/20\n",
      "15750/15750 [==============================] - 5s 298us/sample - loss: 0.0753 - accuracy: 0.9756\n",
      "Epoch 20/20\n",
      "15750/15750 [==============================] - 5s 287us/sample - loss: 0.0498 - accuracy: 0.9825\n"
     ]
    },
    {
     "data": {
      "text/plain": [
       "<tensorflow.python.keras.callbacks.History at 0x7fd3d9026b90>"
      ]
     },
     "execution_count": 15,
     "metadata": {},
     "output_type": "execute_result"
    }
   ],
   "source": [
    "model.fit(train_X, train_y, epochs=20)"
   ]
  },
  {
   "cell_type": "code",
   "execution_count": 16,
   "id": "04d67ef0-a4b5-4899-9d04-3e4933641d2f",
   "metadata": {
    "tags": []
   },
   "outputs": [
    {
     "name": "stdout",
     "output_type": "stream",
     "text": [
      "Accuracy on training data: 0.9893333315849304% \n",
      " Error on test data: 0.01066666841506958\n",
      "\n",
      "Accuracy on test data: 0.833142876625061% \n",
      " Error on test data: 0.16685712337493896\n"
     ]
    }
   ],
   "source": [
    "pred_train= model.predict(train_X)\n",
    "scores = model.evaluate(train_X, train_y, verbose=0)\n",
    "print(f'Accuracy on training data: {scores[1]}% \\n Error on test data: {1 - scores[1]}')   \n",
    "print()\n",
    "pred_test= model.predict(test_X)\n",
    "scores2 = model.evaluate(test_X, test_y, verbose=0)\n",
    "print(f'Accuracy on test data: {scores2[1]}% \\n Error on test data: {1 - scores2[1]}')    "
   ]
  },
  {
   "cell_type": "code",
   "execution_count": 161,
   "id": "21ed78a2-7d09-4104-86f5-bf97b00bb7de",
   "metadata": {
    "tags": []
   },
   "outputs": [],
   "source": [
    "def get_wrong_predictions(preds):\n",
    "    in_test_y = char_dict['char'][split:]\n",
    "    chars = char_dict['char'][:35]\n",
    "    print(\"{Actual letter} - {Predicted letter}\")\n",
    "    for i, prediction in enumerate(preds):\n",
    "        prediction = list(prediction)\n",
    "        actual_letter = in_test_y[i]\n",
    "        predicted_letter = chars[prediction.index(max(prediction))]\n",
    "        if predicted_letter != actual_letter:\n",
    "            print(actual_letter, \"-\", predicted_letter)"
   ]
  },
  {
   "cell_type": "code",
   "execution_count": 162,
   "id": "f1b51325-41b4-4805-ba2f-ee4cff7a545c",
   "metadata": {
    "collapsed": true,
    "jupyter": {
     "outputs_hidden": true
    },
    "tags": []
   },
   "outputs": [
    {
     "name": "stdout",
     "output_type": "stream",
     "text": [
      "{Actual letter} - {Predicted letter}\n",
      "I - 1\n",
      "N - H\n",
      "G - Q\n",
      "Q - G\n",
      "B - G\n",
      "Y - 1\n",
      "9 - Q\n",
      "N - R\n",
      "G - S\n",
      "6 - B\n",
      "S - J\n",
      "V - N\n",
      "2 - Z\n",
      "Y - 4\n",
      "W - U\n",
      "G - 9\n",
      "S - J\n",
      "Y - 4\n",
      "R - A\n",
      "9 - Q\n",
      "S - J\n",
      "D - Q\n",
      "V - N\n",
      "X - A\n",
      "J - A\n",
      "D - 0\n",
      "9 - Q\n",
      "G - F\n",
      "S - J\n",
      "5 - S\n",
      "P - T\n",
      "9 - Q\n",
      "I - 1\n",
      "G - 7\n",
      "S - J\n",
      "C - U\n",
      "P - T\n",
      "R - A\n",
      "9 - Q\n",
      "I - 1\n",
      "G - C\n",
      "T - E\n",
      "K - H\n",
      "2 - G\n",
      "Y - T\n",
      "U - V\n",
      "I - 1\n",
      "N - U\n",
      "S - J\n",
      "H - B\n",
      "4 - U\n",
      "B - A\n",
      "L - 1\n",
      "2 - Z\n",
      "R - D\n",
      "H - B\n",
      "C - Z\n",
      "D - 2\n",
      "2 - 3\n",
      "N - H\n",
      "T - 7\n",
      "D - B\n",
      "Q - G\n",
      "4 - H\n",
      "E - Z\n",
      "7 - T\n",
      "I - 1\n",
      "8 - E\n",
      "T - R\n",
      "A - I\n",
      "C - 0\n",
      "2 - G\n",
      "9 - Q\n",
      "N - H\n",
      "G - A\n",
      "A - Z\n",
      "Q - A\n",
      "L - I\n",
      "9 - F\n",
      "6 - B\n",
      "Q - A\n",
      "4 - 9\n",
      "B - 6\n",
      "P - G\n",
      "9 - Q\n",
      "0 - C\n",
      "6 - B\n",
      "8 - R\n",
      "S - 2\n",
      "A - H\n",
      "C - U\n",
      "D - G\n",
      "L - I\n",
      "I - 1\n",
      "H - U\n",
      "Q - G\n",
      "K - W\n",
      "2 - D\n",
      "5 - F\n",
      "P - A\n",
      "W - H\n",
      "U - V\n",
      "9 - Q\n",
      "N - H\n",
      "G - S\n",
      "6 - G\n",
      "8 - G\n",
      "A - D\n",
      "4 - Q\n",
      "2 - Z\n",
      "U - V\n",
      "I - J\n",
      "8 - P\n",
      "S - J\n",
      "A - R\n",
      "Q - 9\n",
      "K - Z\n",
      "9 - Q\n",
      "8 - G\n",
      "S - J\n",
      "F - E\n",
      "Y - V\n",
      "P - F\n",
      "W - U\n",
      "N - A\n",
      "G - Q\n",
      "J - T\n",
      "4 - U\n",
      "B - D\n",
      "L - H\n",
      "2 - D\n",
      "Y - Q\n",
      "P - A\n",
      "G - B\n",
      "8 - Q\n",
      "Q - 2\n",
      "Y - F\n",
      "5 - F\n",
      "J - I\n",
      "Q - E\n",
      "2 - 3\n",
      "9 - Q\n",
      "8 - Q\n",
      "S - J\n",
      "A - R\n",
      "D - J\n",
      "3 - 5\n",
      "P - D\n",
      "9 - Q\n",
      "I - 1\n",
      "T - E\n",
      "D - 0\n",
      "V - Y\n",
      "6 - G\n",
      "8 - B\n",
      "H - A\n",
      "B - A\n",
      "Y - G\n",
      "G - 6\n",
      "2 - S\n",
      "W - H\n",
      "U - 4\n",
      "R - T\n",
      "7 - 9\n",
      "6 - G\n",
      "J - T\n",
      "L - I\n",
      "P - D\n",
      "I - 1\n",
      "8 - G\n",
      "H - I\n",
      "K - L\n",
      "Y - 4\n",
      "P - D\n",
      "I - 1\n",
      "N - H\n",
      "H - 4\n",
      "D - 3\n",
      "3 - 2\n",
      "E - F\n",
      "B - 6\n",
      "Y - T\n",
      "9 - Q\n",
      "8 - Q\n",
      "F - A\n",
      "R - T\n",
      "U - C\n",
      "G - 6\n",
      "Z - G\n",
      "D - 0\n",
      "Q - 9\n",
      "L - I\n",
      "Y - Q\n",
      "N - H\n",
      "8 - G\n",
      "C - L\n",
      "X - 2\n",
      "3 - 5\n",
      "7 - 9\n",
      "I - 1\n",
      "C - L\n",
      "3 - 8\n",
      "L - I\n",
      "0 - M\n",
      "A - B\n",
      "J - T\n",
      "C - L\n",
      "V - R\n",
      "B - Z\n",
      "2 - Z\n",
      "W - 4\n",
      "U - C\n",
      "A - Q\n",
      "H - A\n",
      "J - I\n",
      "D - Z\n",
      "Q - 9\n",
      "5 - S\n",
      "0 - N\n",
      "C - L\n",
      "I - 1\n",
      "H - M\n",
      "M - N\n",
      "Q - 3\n",
      "Y - J\n",
      "R - A\n",
      "9 - Q\n",
      "Z - L\n",
      "D - 0\n",
      "Y - D\n",
      "I - 1\n",
      "6 - W\n",
      "A - Z\n",
      "F - P\n",
      "D - S\n",
      "V - U\n",
      "Y - 3\n",
      "9 - 7\n",
      "Z - 2\n",
      "H - A\n",
      "P - Q\n",
      "0 - C\n",
      "I - 1\n",
      "G - F\n",
      "S - 5\n",
      "A - Z\n",
      "D - C\n",
      "5 - F\n",
      "1 - I\n",
      "8 - G\n",
      "C - L\n",
      "E - S\n",
      "K - H\n",
      "L - 2\n",
      "2 - J\n",
      "P - F\n",
      "R - V\n",
      "0 - C\n",
      "I - 1\n",
      "G - Q\n",
      "1 - I\n",
      "8 - Q\n",
      "S - 5\n",
      "D - A\n",
      "4 - D\n",
      "9 - Q\n",
      "D - E\n",
      "E - 6\n",
      "2 - Z\n",
      "0 - C\n",
      "1 - I\n",
      "F - R\n",
      "V - J\n",
      "X - 1\n",
      "B - 6\n",
      "5 - F\n",
      "V - Q\n",
      "R - T\n",
      "G - Q\n",
      "Q - G\n",
      "U - V\n",
      "9 - G\n",
      "3 - B\n",
      "2 - Z\n",
      "Y - Q\n",
      "5 - S\n",
      "P - C\n",
      "R - A\n",
      "S - E\n",
      "F - 5\n",
      "Q - 0\n",
      "P - 9\n"
     ]
    }
   ],
   "source": [
    "get_wrong_predictions(pred_test)"
   ]
  },
  {
   "cell_type": "code",
   "execution_count": 149,
   "id": "4b709718-1488-41d1-896f-9a912c735021",
   "metadata": {
    "tags": []
   },
   "outputs": [],
   "source": [
    "def predict_single_img(src):\n",
    "    img = load_img\n",
    "    prediction = model.predict(np.array([img,])/255)\n",
    "    prediction = list(prediction[0])\n",
    "    return chars[prediction.index(max(prediction))]"
   ]
  },
  {
   "cell_type": "code",
   "execution_count": 166,
   "id": "dda67ae7-6aca-4951-893b-1215ca05170f",
   "metadata": {},
   "outputs": [
    {
     "data": {
      "text/plain": [
       "'H'"
      ]
     },
     "execution_count": 166,
     "metadata": {},
     "output_type": "execute_result"
    }
   ],
   "source": [
    "src = 'dataset/handwritten_letters/H/_1_11.jpg'\n",
    "predict_single_img(src)"
   ]
  }
 ],
 "metadata": {
  "kernelspec": {
   "display_name": "Python 3",
   "language": "python",
   "name": "python3"
  },
  "language_info": {
   "codemirror_mode": {
    "name": "ipython",
    "version": 3
   },
   "file_extension": ".py",
   "mimetype": "text/x-python",
   "name": "python",
   "nbconvert_exporter": "python",
   "pygments_lexer": "ipython3",
   "version": "3.7.10"
  }
 },
 "nbformat": 4,
 "nbformat_minor": 5
}
