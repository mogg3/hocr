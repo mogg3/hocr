{
 "cells": [
  {
   "cell_type": "code",
   "execution_count": 1,
   "metadata": {},
   "outputs": [
    {
     "data": {
      "text/plain": [
       "(28, 28)"
      ]
     },
     "execution_count": 1,
     "metadata": {},
     "output_type": "execute_result"
    }
   ],
   "source": [
    "import numpy as np\n",
    "import cv2\n",
    "img = cv2.imread(\"dataset/#/0.jpg\")\n",
    "img = cv2.cvtColor(img, cv2.COLOR_BGR2GRAY)\n",
    "img.shape"
   ]
  },
  {
   "cell_type": "code",
   "execution_count": 2,
   "metadata": {},
   "outputs": [],
   "source": [
    "import re\n",
    "def sorted_alphanumeric(data):\n",
    "    convert = lambda text: int(text) if text.isdigit() else text.lower()\n",
    "    alphanum_key = lambda key: [ convert(c) for c in re.split('([0-9]+)', key) ] \n",
    "    return sorted(data, key=alphanum_key)"
   ]
  },
  {
   "cell_type": "code",
   "execution_count": 3,
   "metadata": {},
   "outputs": [],
   "source": [
    "import os\n",
    "char_dict = {\"char\": [], \"matrix\": []}\n",
    "char_set = dict()\n",
    "src = r\"dataset\"\n",
    "for i in range(250):\n",
    "    for folder in os.listdir(src):\n",
    "        char_dict[\"char\"].append(folder)\n",
    "        if folder not in char_set:\n",
    "            char_set[folder] = sorted_alphanumeric(os.listdir(src + '/' + folder))\n",
    "        img = cv2.imread(f\"{src}/{folder}/{char_set[folder][i]}\")\n",
    "        img = cv2.cvtColor(img, cv2.COLOR_BGR2GRAY)\n",
    "        if not img.shape == (32, 32):\n",
    "            img = cv2.resize(img, (32, 32))\n",
    "        img = img.flatten()\n",
    "        char_dict[\"matrix\"].append(img)"
   ]
  },
  {
   "cell_type": "code",
   "execution_count": 4,
   "metadata": {},
   "outputs": [
    {
     "data": {
      "text/plain": [
       "(9750, 9750)"
      ]
     },
     "execution_count": 4,
     "metadata": {},
     "output_type": "execute_result"
    }
   ],
   "source": [
    "len(char_dict[\"char\"]), len(char_dict[\"matrix\"])"
   ]
  },
  {
   "cell_type": "code",
   "execution_count": 5,
   "metadata": {},
   "outputs": [],
   "source": [
    "X = char_dict[\"matrix\"]\n",
    "X = np.array(X)\n",
    "y = char_dict[\"char\"]\n",
    "y = np.array(y)"
   ]
  },
  {
   "cell_type": "code",
   "execution_count": 6,
   "metadata": {},
   "outputs": [
    {
     "data": {
      "text/plain": [
       "array([0, 0, 0, ..., 0, 0, 0], dtype=uint8)"
      ]
     },
     "execution_count": 6,
     "metadata": {},
     "output_type": "execute_result"
    }
   ],
   "source": [
    "X[0]"
   ]
  },
  {
   "cell_type": "code",
   "execution_count": 7,
   "metadata": {},
   "outputs": [
    {
     "data": {
      "text/plain": [
       "8775.0"
      ]
     },
     "execution_count": 7,
     "metadata": {},
     "output_type": "execute_result"
    }
   ],
   "source": [
    "len(X)*0.9"
   ]
  },
  {
   "cell_type": "code",
   "execution_count": 8,
   "metadata": {},
   "outputs": [],
   "source": [
    "train_X = X[:8775]\n",
    "train_y = y[:8775]\n",
    "test_X = X[8775:]\n",
    "test_y = y[8775:]"
   ]
  },
  {
   "cell_type": "code",
   "execution_count": 9,
   "metadata": {},
   "outputs": [],
   "source": [
    "from sklearn.ensemble import RandomForestClassifier\n",
    "clf_rf = RandomForestClassifier(n_estimators=100)"
   ]
  },
  {
   "cell_type": "code",
   "execution_count": 10,
   "metadata": {},
   "outputs": [
    {
     "data": {
      "text/plain": [
       "RandomForestClassifier()"
      ]
     },
     "execution_count": 10,
     "metadata": {},
     "output_type": "execute_result"
    }
   ],
   "source": [
    "clf_rf.fit(train_X, train_y)"
   ]
  },
  {
   "cell_type": "code",
   "execution_count": 11,
   "metadata": {},
   "outputs": [],
   "source": [
    "y_pred = clf_rf.predict(test_X)"
   ]
  },
  {
   "cell_type": "code",
   "execution_count": 12,
   "metadata": {},
   "outputs": [
    {
     "data": {
      "text/plain": [
       "0.8256410256410256"
      ]
     },
     "execution_count": 12,
     "metadata": {},
     "output_type": "execute_result"
    }
   ],
   "source": [
    "from sklearn.metrics import accuracy_score\n",
    "#print(f\"Accuracy: {accuracy_score(test_y, y_pred)}\")\n",
    "score = accuracy_score(test_y, y_pred)\n",
    "score"
   ]
  },
  {
   "cell_type": "code",
   "execution_count": 13,
   "metadata": {},
   "outputs": [],
   "source": [
    "# import pickle\n",
    "# with open('modelRandomForest.dat', 'wb') as file:\n",
    "#     pickle.dump(clf_rf, file)"
   ]
  },
  {
   "cell_type": "markdown",
   "metadata": {},
   "source": [
    "### trying for seeds"
   ]
  },
  {
   "cell_type": "code",
   "execution_count": 14,
   "metadata": {},
   "outputs": [
    {
     "name": "stdout",
     "output_type": "stream",
     "text": [
      "Seed: 0, Score: 0.8318\n",
      "Seed: 1, Score: 0.8236\n",
      "Seed: 2, Score: 0.8215\n",
      "Seed: 3, Score: 0.8308\n",
      "Seed: 4, Score: 0.8297\n",
      "Seed: 5, Score: 0.8277\n",
      "Seed: 6, Score: 0.8215\n",
      "Seed: 7, Score: 0.8267\n",
      "Seed: 8, Score: 0.8256\n",
      "Seed: 9, Score: 0.8164\n",
      "Seed: 10, Score: 0.8164\n",
      "Seed: 11, Score: 0.8226\n",
      "Seed: 12, Score: 0.8164\n",
      "Seed: 13, Score: 0.8256\n",
      "Seed: 14, Score: 0.8318\n",
      "Seed: 15, Score: 0.8287\n",
      "Seed: 16, Score: 0.8287\n",
      "Seed: 17, Score: 0.8256\n",
      "Seed: 18, Score: 0.8277\n",
      "Seed: 19, Score: 0.8297\n",
      "Seed: 20, Score: 0.8359\n",
      "Seed: 21, Score: 0.8277\n",
      "Seed: 22, Score: 0.8236\n",
      "Seed: 23, Score: 0.8308\n",
      "Seed: 24, Score: 0.8236\n",
      "Seed: 25, Score: 0.8215\n",
      "Seed: 26, Score: 0.8164\n",
      "Seed: 27, Score: 0.8195\n",
      "Seed: 28, Score: 0.8318\n",
      "Seed: 29, Score: 0.8246\n",
      "Seed: 30, Score: 0.8174\n",
      "Seed: 31, Score: 0.8215\n",
      "Seed: 32, Score: 0.8215\n",
      "Seed: 33, Score: 0.8174\n",
      "Seed: 34, Score: 0.8349\n",
      "Seed: 35, Score: 0.8113\n",
      "Seed: 36, Score: 0.8164\n",
      "Seed: 37, Score: 0.8256\n",
      "Seed: 38, Score: 0.8308\n",
      "Seed: 39, Score: 0.8277\n",
      "Seed: 40, Score: 0.8267\n",
      "Seed: 41, Score: 0.8215\n",
      "Seed: 42, Score: 0.8359\n",
      "Seed: 43, Score: 0.8349\n",
      "Seed: 44, Score: 0.8277\n",
      "Seed: 45, Score: 0.839\n",
      "Seed: 46, Score: 0.8421\n",
      "Seed: 47, Score: 0.8256\n",
      "Seed: 48, Score: 0.8246\n",
      "Seed: 49, Score: 0.8297\n",
      "Seed: 50, Score: 0.8328\n",
      "Seed: 51, Score: 0.8287\n",
      "Seed: 52, Score: 0.8287\n",
      "Seed: 53, Score: 0.8236\n",
      "Seed: 54, Score: 0.8205\n",
      "Seed: 55, Score: 0.8174\n",
      "Seed: 56, Score: 0.8144\n",
      "Seed: 57, Score: 0.8287\n",
      "Seed: 58, Score: 0.8092\n",
      "Seed: 59, Score: 0.8154\n",
      "Seed: 60, Score: 0.8226\n",
      "Seed: 61, Score: 0.8215\n",
      "Seed: 62, Score: 0.8256\n",
      "Seed: 63, Score: 0.8246\n",
      "Seed: 64, Score: 0.8277\n",
      "Seed: 65, Score: 0.8297\n",
      "Seed: 66, Score: 0.8195\n",
      "Seed: 67, Score: 0.8267\n",
      "Seed: 68, Score: 0.8195\n",
      "Seed: 69, Score: 0.84\n",
      "Seed: 70, Score: 0.8338\n",
      "Seed: 71, Score: 0.8236\n",
      "Seed: 72, Score: 0.8328\n",
      "Seed: 73, Score: 0.8277\n",
      "Seed: 74, Score: 0.8308\n",
      "Seed: 75, Score: 0.8297\n",
      "Seed: 76, Score: 0.8226\n",
      "Seed: 77, Score: 0.8349\n",
      "Seed: 78, Score: 0.8287\n",
      "Seed: 79, Score: 0.8215\n",
      "Seed: 80, Score: 0.8287\n",
      "Seed: 81, Score: 0.8318\n",
      "Seed: 82, Score: 0.8195\n",
      "Seed: 83, Score: 0.8154\n",
      "Seed: 84, Score: 0.8267\n",
      "Seed: 85, Score: 0.8185\n",
      "Seed: 86, Score: 0.8277\n",
      "Seed: 87, Score: 0.8195\n",
      "Seed: 88, Score: 0.8226\n",
      "Seed: 89, Score: 0.8174\n",
      "Seed: 90, Score: 0.8318\n",
      "Seed: 91, Score: 0.8133\n",
      "Seed: 92, Score: 0.8256\n",
      "Seed: 93, Score: 0.8154\n",
      "Seed: 94, Score: 0.8174\n",
      "Seed: 95, Score: 0.8287\n",
      "Seed: 96, Score: 0.8338\n",
      "Seed: 97, Score: 0.8297\n",
      "Seed: 98, Score: 0.8195\n",
      "Seed: 99, Score: 0.8205\n",
      "Best accuracy: 0.8420512820512821, best seed: 46\n"
     ]
    }
   ],
   "source": [
    "from sklearn.ensemble import RandomForestClassifier\n",
    "from sklearn.metrics import accuracy_score\n",
    "best = 0.\n",
    "best_seed = 0\n",
    "for i in range(100):\n",
    "    clf_rf = RandomForestClassifier(n_estimators=100, random_state=i)\n",
    "    clf_rf.fit(train_X, train_y)\n",
    "    y_pred = clf_rf.predict(test_X)\n",
    "    score = accuracy_score(test_y, y_pred)\n",
    "    if score > best:\n",
    "        best = score\n",
    "        best_seed = i\n",
    "    print(f\"Seed: {i}, Score: {round(score, 4)}\")\n",
    "print(f\"Best accuracy: {best}, best seed: {best_seed}\")"
   ]
  },
  {
   "cell_type": "code",
   "execution_count": null,
   "metadata": {},
   "outputs": [],
   "source": []
  }
 ],
 "metadata": {
  "kernelspec": {
   "display_name": "Python 3",
   "language": "python",
   "name": "python3"
  },
  "language_info": {
   "codemirror_mode": {
    "name": "ipython",
    "version": 3
   },
   "file_extension": ".py",
   "mimetype": "text/x-python",
   "name": "python",
   "nbconvert_exporter": "python",
   "pygments_lexer": "ipython3",
   "version": "3.8.5"
  }
 },
 "nbformat": 4,
 "nbformat_minor": 4
}
