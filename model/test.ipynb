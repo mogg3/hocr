{
 "cells": [
  {
   "cell_type": "code",
   "execution_count": 1,
   "id": "9d11b9fa-2c43-43f2-843d-fdff7bb0683f",
   "metadata": {
    "tags": []
   },
   "outputs": [],
   "source": [
    "import tensorflow as tf\n",
    "import numpy as np\n",
    "import matplotlib.pyplot as plt\n",
    "import cv2\n",
    "import os\n",
    "import re\n",
    "from tensorflow import keras\n",
    "import time"
   ]
  },
  {
   "cell_type": "code",
   "execution_count": 2,
   "id": "c77b7255-7ff6-410d-95cd-02b9a8ecc79a",
   "metadata": {},
   "outputs": [],
   "source": [
    "def sorted_alphanumeric(data):\n",
    "    convert = lambda text: int(text) if text.isdigit() else text.lower()\n",
    "    alphanum_key = lambda key: [ convert(c) for c in re.split('([0-9]+)', key) ]\n",
    "    return sorted(data, key=alphanum_key)"
   ]
  },
  {
   "cell_type": "code",
   "execution_count": 3,
   "id": "19b8d7a2-f0a2-4b0a-80fd-b30600a5b2ff",
   "metadata": {},
   "outputs": [
    {
     "name": "stdout",
     "output_type": "stream",
     "text": [
      "8.766955852508545 seconds\n"
     ]
    }
   ],
   "source": [
    "start = time.time()\n",
    "\n",
    "char_dict = {\"char\": [], \"matrix\": []}\n",
    "char_set = dict()\n",
    "src = r\"dataset/handwritten_letters\"\n",
    "for i in range(500):\n",
    "    for folder in os.listdir(src):\n",
    "        char_dict[\"char\"].append(folder)\n",
    "        if folder not in char_set:\n",
    "            char_set[folder] = sorted_alphanumeric(os.listdir(src + '/' + folder))\n",
    "        img = cv2.imread(f\"{src}/{folder}/{char_set[folder][i]}\")\n",
    "        img = cv2.cvtColor(img, cv2.COLOR_BGR2GRAY)\n",
    "        if not img.shape == (32, 32):\n",
    "            img = cv2.resize(img, (32, 32))\n",
    "        _, img = cv2.threshold(img, 127, 255, cv2.THRESH_BINARY_INV)\n",
    "        img = cv2.bitwise_not(img)\n",
    "        img = img.flatten()\n",
    "        char_dict[\"matrix\"].append(img)\n",
    "\n",
    "\n",
    "stop = time.time()\n",
    "print(stop-start, 'seconds')"
   ]
  },
  {
   "cell_type": "code",
   "execution_count": 4,
   "id": "9c0433d5-3cb5-4492-a8b6-d89a9211f50c",
   "metadata": {},
   "outputs": [
    {
     "name": "stderr",
     "output_type": "stream",
     "text": [
      "/Users/marcuseriksson/opt/anaconda3/envs/tf/lib/python3.7/site-packages/category_encoders/utils.py:21: FutureWarning: is_categorical is deprecated and will be removed in a future version.  Use is_categorical_dtype instead\n",
      "  elif pd.api.types.is_categorical(cols):\n"
     ]
    }
   ],
   "source": [
    "import category_encoders as ce\n",
    "le =  ce.OneHotEncoder(return_df=False, handle_unknown=\"ignore\")\n",
    "y = np.array(char_dict['char'])\n",
    "\n",
    "y = le.fit_transform(y)\n",
    "X = np.array(char_dict[\"matrix\"])"
   ]
  },
  {
   "cell_type": "code",
   "execution_count": 5,
   "id": "27e229aa-66b0-44e7-bc50-8e5adccece14",
   "metadata": {},
   "outputs": [],
   "source": [
    "split = int(round(0.9 * len(X)))\n",
    "\n",
    "train_X = X[:split]/255\n",
    "train_y = y[:split]\n",
    "test_X = X[split:]/255\n",
    "test_y = y[split:]"
   ]
  },
  {
   "cell_type": "code",
   "execution_count": 6,
   "id": "b0d05264-2ac6-48b9-989c-e25c83407677",
   "metadata": {},
   "outputs": [],
   "source": [
    "train_X = train_X.astype('int32')\n",
    "test_X = test_X.astype('int32')"
   ]
  },
  {
   "cell_type": "code",
   "execution_count": 7,
   "id": "32e55b8c-052c-48de-b050-d6aea5693003",
   "metadata": {},
   "outputs": [
    {
     "name": "stdout",
     "output_type": "stream",
     "text": [
      "x values: [0, 1]\n",
      "y values: [1, 0]\n"
     ]
    }
   ],
   "source": [
    "values = []\n",
    "for char in train_X:\n",
    "    for value in char:\n",
    "        if value not in values:\n",
    "            values.append(value)\n",
    "print('x values:', values)\n",
    "values = []\n",
    "for char in train_y:\n",
    "    for value in char:\n",
    "        if value not in values:\n",
    "            values.append(value)\n",
    "print('y values:', values)"
   ]
  },
  {
   "cell_type": "code",
   "execution_count": 8,
   "id": "ad360daa-1b37-4a9b-9dcf-98e22b3d99c8",
   "metadata": {},
   "outputs": [],
   "source": [
    "train_X = tf.constant(train_X)\n",
    "train_y = tf.constant(train_y)\n",
    "\n",
    "test_X = tf.constant(test_X)\n",
    "test_y = tf.constant(test_y)"
   ]
  },
  {
   "cell_type": "code",
   "execution_count": 9,
   "id": "072af765-d0e9-4a17-a7d6-24836627217f",
   "metadata": {},
   "outputs": [
    {
     "data": {
      "text/plain": [
       "<tf.Tensor: id=0, shape=(15750, 1024), dtype=int32, numpy=\n",
       "array([[0, 0, 0, ..., 0, 0, 0],\n",
       "       [0, 0, 0, ..., 0, 0, 0],\n",
       "       [0, 0, 0, ..., 0, 0, 0],\n",
       "       ...,\n",
       "       [0, 0, 0, ..., 0, 0, 0],\n",
       "       [0, 0, 0, ..., 0, 0, 0],\n",
       "       [0, 0, 0, ..., 0, 0, 0]], dtype=int32)>"
      ]
     },
     "execution_count": 9,
     "metadata": {},
     "output_type": "execute_result"
    }
   ],
   "source": [
    "train_X"
   ]
  },
  {
   "cell_type": "code",
   "execution_count": 10,
   "id": "d96f3453-600f-4108-8912-a5ab6c6924bd",
   "metadata": {},
   "outputs": [
    {
     "data": {
      "text/plain": [
       "<tf.Tensor: id=1, shape=(15750, 35), dtype=int64, numpy=\n",
       "array([[1, 0, 0, ..., 0, 0, 0],\n",
       "       [0, 1, 0, ..., 0, 0, 0],\n",
       "       [0, 0, 1, ..., 0, 0, 0],\n",
       "       ...,\n",
       "       [0, 0, 0, ..., 1, 0, 0],\n",
       "       [0, 0, 0, ..., 0, 1, 0],\n",
       "       [0, 0, 0, ..., 0, 0, 1]])>"
      ]
     },
     "execution_count": 10,
     "metadata": {},
     "output_type": "execute_result"
    }
   ],
   "source": [
    "train_y"
   ]
  },
  {
   "cell_type": "code",
   "execution_count": 11,
   "id": "b5d679de-2db3-4cec-b0f8-7ddf978462eb",
   "metadata": {},
   "outputs": [
    {
     "data": {
      "text/plain": [
       "<tf.Tensor: id=2, shape=(1750, 1024), dtype=int32, numpy=\n",
       "array([[0, 0, 0, ..., 0, 0, 0],\n",
       "       [0, 0, 0, ..., 0, 0, 0],\n",
       "       [0, 0, 0, ..., 0, 0, 0],\n",
       "       ...,\n",
       "       [0, 0, 0, ..., 0, 0, 0],\n",
       "       [0, 0, 0, ..., 0, 0, 0],\n",
       "       [0, 0, 0, ..., 0, 0, 0]], dtype=int32)>"
      ]
     },
     "execution_count": 11,
     "metadata": {},
     "output_type": "execute_result"
    }
   ],
   "source": [
    "test_X"
   ]
  },
  {
   "cell_type": "code",
   "execution_count": 12,
   "id": "68e74396-a52c-4010-8975-317f8b846ed8",
   "metadata": {},
   "outputs": [
    {
     "data": {
      "text/plain": [
       "<tf.Tensor: id=3, shape=(1750, 35), dtype=int64, numpy=\n",
       "array([[1, 0, 0, ..., 0, 0, 0],\n",
       "       [0, 1, 0, ..., 0, 0, 0],\n",
       "       [0, 0, 1, ..., 0, 0, 0],\n",
       "       ...,\n",
       "       [0, 0, 0, ..., 1, 0, 0],\n",
       "       [0, 0, 0, ..., 0, 1, 0],\n",
       "       [0, 0, 0, ..., 0, 0, 1]])>"
      ]
     },
     "execution_count": 12,
     "metadata": {},
     "output_type": "execute_result"
    }
   ],
   "source": [
    "test_y"
   ]
  },
  {
   "cell_type": "code",
   "execution_count": 13,
   "id": "a31d6f32-c173-419a-86db-d4a9043ad902",
   "metadata": {
    "tags": []
   },
   "outputs": [],
   "source": [
    "model = tf.keras.Sequential()\n",
    "model.add(tf.keras.layers.Dense(500, activation='relu', input_dim=1024))\n",
    "model.add(tf.keras.layers.Dense(100, activation='relu'))\n",
    "model.add(tf.keras.layers.Dense(50, activation='relu'))\n",
    "model.add(tf.keras.layers.Dense(35, activation='softmax'))\n",
    "\n",
    "model.compile(optimizer='adam', \n",
    "              loss='categorical_crossentropy', \n",
    "              metrics=['accuracy'])"
   ]
  },
  {
   "cell_type": "code",
   "execution_count": 14,
   "id": "87db350d-eb1c-41a4-95ca-b41a673f8809",
   "metadata": {},
   "outputs": [
    {
     "name": "stdout",
     "output_type": "stream",
     "text": [
      "Train on 15750 samples\n",
      "Epoch 1/20\n",
      "15750/15750 [==============================] - 5s 339us/sample - loss: 1.3570 - accuracy: 0.6250\n",
      "Epoch 2/20\n",
      "15750/15750 [==============================] - 5s 302us/sample - loss: 0.6035 - accuracy: 0.8180\n",
      "Epoch 3/20\n",
      "15750/15750 [==============================] - 5s 286us/sample - loss: 0.4087 - accuracy: 0.8737\n",
      "Epoch 4/20\n",
      "15750/15750 [==============================] - 5s 308us/sample - loss: 0.2973 - accuracy: 0.9055\n",
      "Epoch 5/20\n",
      "15750/15750 [==============================] - 5s 312us/sample - loss: 0.2249 - accuracy: 0.9282\n",
      "Epoch 6/20\n",
      "15750/15750 [==============================] - 5s 338us/sample - loss: 0.1735 - accuracy: 0.9429\n",
      "Epoch 7/20\n",
      "15750/15750 [==============================] - 5s 313us/sample - loss: 0.1387 - accuracy: 0.9516\n",
      "Epoch 8/20\n",
      "15750/15750 [==============================] - 5s 314us/sample - loss: 0.1177 - accuracy: 0.9591\n",
      "Epoch 9/20\n",
      "15750/15750 [==============================] - 5s 307us/sample - loss: 0.0990 - accuracy: 0.9665\n",
      "Epoch 10/20\n",
      "15750/15750 [==============================] - 5s 324us/sample - loss: 0.1021 - accuracy: 0.9633\n",
      "Epoch 11/20\n",
      "15750/15750 [==============================] - 5s 305us/sample - loss: 0.1002 - accuracy: 0.9646\n",
      "Epoch 12/20\n",
      "15750/15750 [==============================] - 5s 310us/sample - loss: 0.0709 - accuracy: 0.9740\n",
      "Epoch 13/20\n",
      "15750/15750 [==============================] - 5s 316us/sample - loss: 0.0651 - accuracy: 0.9777\n",
      "Epoch 14/20\n",
      "15750/15750 [==============================] - 5s 297us/sample - loss: 0.0690 - accuracy: 0.9770\n",
      "Epoch 15/20\n",
      "15750/15750 [==============================] - 5s 310us/sample - loss: 0.0700 - accuracy: 0.9757\n",
      "Epoch 16/20\n",
      "15750/15750 [==============================] - 5s 331us/sample - loss: 0.0572 - accuracy: 0.9801\n",
      "Epoch 17/20\n",
      "15750/15750 [==============================] - 5s 305us/sample - loss: 0.0538 - accuracy: 0.9813\n",
      "Epoch 18/20\n",
      "15750/15750 [==============================] - 5s 300us/sample - loss: 0.0810 - accuracy: 0.9733\n",
      "Epoch 19/20\n",
      "15750/15750 [==============================] - 5s 317us/sample - loss: 0.0457 - accuracy: 0.9846\n",
      "Epoch 20/20\n",
      "15750/15750 [==============================] - 5s 303us/sample - loss: 0.0481 - accuracy: 0.9833\n"
     ]
    },
    {
     "data": {
      "text/plain": [
       "<tensorflow.python.keras.callbacks.History at 0x7fded13ea8d0>"
      ]
     },
     "execution_count": 14,
     "metadata": {},
     "output_type": "execute_result"
    }
   ],
   "source": [
    "model.fit(train_X, train_y, epochs=20)"
   ]
  },
  {
   "cell_type": "code",
   "execution_count": 15,
   "id": "04d67ef0-a4b5-4899-9d04-3e4933641d2f",
   "metadata": {
    "tags": []
   },
   "outputs": [
    {
     "name": "stdout",
     "output_type": "stream",
     "text": [
      "Accuracy on training data: 0.9800000190734863% \n",
      " Error on test data: 0.019999980926513672\n",
      "\n",
      "Accuracy on test data: 0.8320000171661377% \n",
      " Error on test data: 0.1679999828338623\n"
     ]
    }
   ],
   "source": [
    "pred_train= model.predict(train_X)\n",
    "scores = model.evaluate(train_X, train_y, verbose=0)\n",
    "print(f'Accuracy on training data: {scores[1]}% \\n Error on test data: {1 - scores[1]}')   \n",
    "print()\n",
    "pred_test= model.predict(test_X)\n",
    "scores2 = model.evaluate(test_X, test_y, verbose=0)\n",
    "print(f'Accuracy on test data: {scores2[1]}% \\n Error on test data: {1 - scores2[1]}')    "
   ]
  },
  {
   "cell_type": "code",
   "execution_count": 27,
   "id": "21ed78a2-7d09-4104-86f5-bf97b00bb7de",
   "metadata": {
    "tags": []
   },
   "outputs": [],
   "source": [
    "def get_wrong_predictions(preds):\n",
    "    in_test_y = char_dict['char'][split:]\n",
    "    chars = char_dict['char'][:35]\n",
    "    print(\"{Actual letter} - {Predicted letter}\")\n",
    "    for i, prediction in enumerate(preds):\n",
    "        prediction = list(prediction)\n",
    "        actual_letter = in_test_y[i]\n",
    "        predicted_letter = chars[prediction.index(max(prediction))]\n",
    "        if predicted_letter != actual_letter:\n",
    "            print(actual_letter, \"-\", predicted_letter)"
   ]
  },
  {
   "cell_type": "code",
   "execution_count": 28,
   "id": "f1b51325-41b4-4805-ba2f-ee4cff7a545c",
   "metadata": {},
   "outputs": [
    {
     "name": "stdout",
     "output_type": "stream",
     "text": [
      "{Actual letter} - {Predicted letter}\n",
      "G - Q\n",
      "J - S\n",
      "U - K\n",
      "9 - Q\n",
      "N - R\n",
      "G - S\n",
      "S - J\n",
      "V - G\n",
      "N - 4\n",
      "G - 9\n",
      "Z - 2\n",
      "T - R\n",
      "S - J\n",
      "H - W\n",
      "J - 5\n",
      "4 - Y\n",
      "B - C\n",
      "9 - Q\n",
      "6 - G\n",
      "D - G\n",
      "V - N\n",
      "4 - 9\n",
      "X - A\n",
      "6 - W\n",
      "8 - B\n",
      "J - G\n",
      "D - Q\n",
      "9 - Q\n",
      "T - Y\n",
      "S - J\n",
      "2 - A\n",
      "9 - Q\n",
      "I - 1\n",
      "G - 7\n",
      "S - J\n",
      "F - T\n",
      "H - 4\n",
      "4 - A\n",
      "P - Q\n",
      "R - A\n",
      "I - 1\n",
      "2 - G\n",
      "N - W\n",
      "S - J\n",
      "F - 8\n",
      "H - R\n",
      "M - R\n",
      "B - G\n",
      "2 - Z\n",
      "I - J\n",
      "J - S\n",
      "D - G\n",
      "2 - G\n",
      "N - H\n",
      "T - R\n",
      "E - 8\n",
      "U - W\n",
      "7 - T\n",
      "N - M\n",
      "G - A\n",
      "1 - I\n",
      "T - R\n",
      "A - B\n",
      "C - 0\n",
      "D - B\n",
      "2 - S\n",
      "N - H\n",
      "G - P\n",
      "A - H\n",
      "Q - A\n",
      "L - I\n",
      "N - W\n",
      "6 - B\n",
      "Q - A\n",
      "P - Q\n",
      "9 - Q\n",
      "6 - E\n",
      "8 - R\n",
      "S - I\n",
      "C - U\n",
      "L - E\n",
      "1 - I\n",
      "T - F\n",
      "H - M\n",
      "Q - Y\n",
      "B - D\n",
      "K - W\n",
      "2 - D\n",
      "P - G\n",
      "6 - G\n",
      "8 - G\n",
      "A - D\n",
      "4 - R\n",
      "B - 8\n",
      "2 - E\n",
      "U - V\n",
      "I - S\n",
      "N - R\n",
      "8 - P\n",
      "S - J\n",
      "Q - 9\n",
      "2 - B\n",
      "P - F\n",
      "J - Y\n",
      "3 - 5\n",
      "P - 9\n",
      "N - A\n",
      "G - 9\n",
      "H - M\n",
      "4 - U\n",
      "B - D\n",
      "L - H\n",
      "2 - D\n",
      "P - 7\n",
      "I - L\n",
      "G - Q\n",
      "8 - Q\n",
      "3 - J\n",
      "2 - D\n",
      "T - 4\n",
      "Q - E\n",
      "2 - A\n",
      "9 - Q\n",
      "8 - Q\n",
      "H - A\n",
      "3 - 5\n",
      "B - 8\n",
      "P - D\n",
      "V - Y\n",
      "Q - A\n",
      "6 - G\n",
      "Z - A\n",
      "4 - 9\n",
      "3 - 5\n",
      "B - R\n",
      "2 - J\n",
      "T - R\n",
      "F - P\n",
      "H - N\n",
      "Q - G\n",
      "2 - S\n",
      "W - N\n",
      "J - U\n",
      "5 - F\n",
      "7 - 9\n",
      "G - Q\n",
      "6 - G\n",
      "1 - I\n",
      "J - Y\n",
      "P - D\n",
      "7 - 9\n",
      "I - 1\n",
      "N - W\n",
      "8 - A\n",
      "H - L\n",
      "Y - 4\n",
      "5 - F\n",
      "P - Q\n",
      "U - W\n",
      "7 - 9\n",
      "I - 1\n",
      "N - W\n",
      "Z - 2\n",
      "3 - J\n",
      "E - F\n",
      "2 - A\n",
      "7 - 9\n",
      "6 - G\n",
      "Z - C\n",
      "8 - Q\n",
      "A - W\n",
      "F - A\n",
      "E - F\n",
      "7 - 9\n",
      "I - 1\n",
      "G - 6\n",
      "Z - Q\n",
      "1 - 8\n",
      "T - R\n",
      "H - N\n",
      "D - 0\n",
      "V - U\n",
      "Q - 9\n",
      "L - 1\n",
      "Y - Q\n",
      "0 - N\n",
      "7 - 9\n",
      "N - W\n",
      "6 - B\n",
      "8 - A\n",
      "X - D\n",
      "3 - S\n",
      "Y - Q\n",
      "7 - 9\n",
      "I - 1\n",
      "C - L\n",
      "Q - 9\n",
      "3 - Y\n",
      "L - I\n",
      "0 - N\n",
      "7 - 9\n",
      "8 - P\n",
      "A - B\n",
      "V - R\n",
      "2 - Z\n",
      "W - 4\n",
      "U - L\n",
      "7 - 9\n",
      "6 - B\n",
      "H - A\n",
      "V - Y\n",
      "Q - 9\n",
      "B - 8\n",
      "2 - A\n",
      "5 - S\n",
      "0 - N\n",
      "7 - 9\n",
      "C - E\n",
      "Q - G\n",
      "5 - F\n",
      "I - 1\n",
      "Z - B\n",
      "F - R\n",
      "H - M\n",
      "M - N\n",
      "D - Q\n",
      "Q - G\n",
      "K - E\n",
      "Y - J\n",
      "R - A\n",
      "9 - Q\n",
      "0 - Q\n",
      "7 - 9\n",
      "Y - D\n",
      "7 - 9\n",
      "I - 1\n",
      "6 - W\n",
      "F - P\n",
      "V - U\n",
      "2 - A\n",
      "Y - D\n",
      "Z - 2\n",
      "H - A\n",
      "V - N\n",
      "L - H\n",
      "P - Q\n",
      "I - 1\n",
      "G - W\n",
      "Z - A\n",
      "J - Y\n",
      "V - U\n",
      "2 - A\n",
      "5 - F\n",
      "6 - G\n",
      "1 - I\n",
      "8 - G\n",
      "A - M\n",
      "C - L\n",
      "L - D\n",
      "0 - Q\n",
      "G - Q\n",
      "1 - I\n",
      "8 - G\n",
      "4 - D\n",
      "3 - 8\n",
      "B - A\n",
      "K - X\n",
      "U - W\n",
      "9 - Q\n",
      "K - X\n",
      "2 - Z\n",
      "6 - G\n",
      "1 - I\n",
      "V - J\n",
      "5 - R\n",
      "1 - I\n",
      "D - 0\n",
      "4 - Y\n",
      "R - T\n",
      "G - Q\n",
      "F - P\n",
      "Q - 9\n",
      "3 - S\n",
      "L - K\n",
      "2 - A\n",
      "3 - B\n",
      "2 - Z\n",
      "Y - 9\n",
      "5 - S\n",
      "N - W\n",
      "S - E\n",
      "F - 5\n",
      "Q - G\n",
      "P - 9\n"
     ]
    }
   ],
   "source": [
    "get_wrong_predictions(pred_test)"
   ]
  }
 ],
 "metadata": {
  "kernelspec": {
   "display_name": "Python 3",
   "language": "python",
   "name": "python3"
  },
  "language_info": {
   "codemirror_mode": {
    "name": "ipython",
    "version": 3
   },
   "file_extension": ".py",
   "mimetype": "text/x-python",
   "name": "python",
   "nbconvert_exporter": "python",
   "pygments_lexer": "ipython3",
   "version": "3.7.10"
  }
 },
 "nbformat": 4,
 "nbformat_minor": 5
}
